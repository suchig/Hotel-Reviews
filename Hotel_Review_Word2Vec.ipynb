{
  "nbformat": 4,
  "nbformat_minor": 0,
  "metadata": {
    "accelerator": "GPU",
    "colab": {
      "name": "Hotel_Review_Word2Vec.ipynb",
      "version": "0.3.2",
      "provenance": [],
      "collapsed_sections": [],
      "include_colab_link": true
    },
    "kernelspec": {
      "display_name": "Python 3",
      "language": "python",
      "name": "python3"
    },
    "language_info": {
      "codemirror_mode": {
        "name": "ipython",
        "version": 3
      },
      "file_extension": ".py",
      "mimetype": "text/x-python",
      "name": "python",
      "nbconvert_exporter": "python",
      "pygments_lexer": "ipython3",
      "version": "3.6.8"
    }
  },
  "cells": [
    {
      "cell_type": "markdown",
      "metadata": {
        "id": "view-in-github",
        "colab_type": "text"
      },
      "source": [
        "<a href=\"https://colab.research.google.com/github/suchig/Hotel-Reviews/blob/master/Hotel_Review_Word2Vec.ipynb\" target=\"_parent\"><img src=\"https://colab.research.google.com/assets/colab-badge.svg\" alt=\"Open In Colab\"/></a>"
      ]
    },
    {
      "cell_type": "markdown",
      "metadata": {
        "id": "ah9sHFLPgk0Q",
        "colab_type": "text"
      },
      "source": [
        "Source is similar to https://kavita-ganesan.com/gensim-word2vec-tutorial-starter-code/#.XTJOjJNKhQI"
      ]
    },
    {
      "cell_type": "code",
      "metadata": {
        "colab_type": "code",
        "id": "nN-yO6O-49UI",
        "colab": {}
      },
      "source": [
        "import warnings\n",
        "warnings.filterwarnings('ignore')\n",
        "\n",
        "import numpy as np\n",
        "import pandas as pd\n",
        "\n",
        "#!pip install gensim\n",
        "import gensim \n",
        "import logging\n",
        "from gensim.models import Word2Vec\n",
        "from gensim.models import KeyedVectors"
      ],
      "execution_count": 0,
      "outputs": []
    },
    {
      "cell_type": "code",
      "metadata": {
        "colab_type": "code",
        "id": "lTilHbhE49UM",
        "colab": {}
      },
      "source": [
        "logging.basicConfig(format='%(asctime)s : %(levelname)s : %(message)s', level=logging.INFO)"
      ],
      "execution_count": 0,
      "outputs": []
    },
    {
      "cell_type": "code",
      "metadata": {
        "id": "5fmV2Zi3gfKy",
        "colab_type": "code",
        "colab": {}
      },
      "source": [
        "hotels = pd.read_csv(\"Hotel_Reviews.csv\")"
      ],
      "execution_count": 0,
      "outputs": []
    },
    {
      "cell_type": "code",
      "metadata": {
        "id": "tOtUjVyPgfK0",
        "colab_type": "code",
        "colab": {}
      },
      "source": [
        "def read_input():\n",
        "    for i in range(hotels.shape[0]):\n",
        "        if (i%10000==0):\n",
        "            logging.info (\"read {0} reviews\".format (i))\n",
        "        yield gensim.utils.simple_preprocess (pos_review[i]+\" \"+neg_review[i])"
      ],
      "execution_count": 0,
      "outputs": []
    },
    {
      "cell_type": "code",
      "metadata": {
        "id": "IODqEWWzgfK2",
        "colab_type": "code",
        "colab": {},
        "outputId": "a9559674-b1f8-4f93-ebcd-fc7b60b8c5b3"
      },
      "source": [
        "hotels[hotels['Negative_Review']=='No Negative']['Negative_Review']='NoNegative'\n",
        "hotels[hotels['Positive_Review']=='No Positive']['Positive_Review']='NoPositive'\n",
        "\n",
        "pos_review = hotels['Positive_Review']\n",
        "neg_review = hotels['Negative_Review']\n",
        "\n",
        "documents = list(read_input())\n",
        "logging.info (\"Done reading data file\")"
      ],
      "execution_count": 0,
      "outputs": [
        {
          "output_type": "stream",
          "text": [
            "2019-07-19 10:09:42,696 : INFO : read 0 reviews\n",
            "2019-07-19 10:09:43,494 : INFO : read 10000 reviews\n",
            "2019-07-19 10:09:44,192 : INFO : read 20000 reviews\n",
            "2019-07-19 10:09:44,866 : INFO : read 30000 reviews\n",
            "2019-07-19 10:09:45,534 : INFO : read 40000 reviews\n",
            "2019-07-19 10:09:46,228 : INFO : read 50000 reviews\n",
            "2019-07-19 10:09:46,899 : INFO : read 60000 reviews\n",
            "2019-07-19 10:09:47,572 : INFO : read 70000 reviews\n",
            "2019-07-19 10:09:48,239 : INFO : read 80000 reviews\n",
            "2019-07-19 10:09:48,889 : INFO : read 90000 reviews\n",
            "2019-07-19 10:09:49,669 : INFO : read 100000 reviews\n",
            "2019-07-19 10:09:50,331 : INFO : read 110000 reviews\n",
            "2019-07-19 10:09:51,013 : INFO : read 120000 reviews\n",
            "2019-07-19 10:09:51,686 : INFO : read 130000 reviews\n",
            "2019-07-19 10:09:52,368 : INFO : read 140000 reviews\n",
            "2019-07-19 10:09:53,040 : INFO : read 150000 reviews\n",
            "2019-07-19 10:09:53,736 : INFO : read 160000 reviews\n",
            "2019-07-19 10:09:54,399 : INFO : read 170000 reviews\n",
            "2019-07-19 10:09:55,067 : INFO : read 180000 reviews\n",
            "2019-07-19 10:09:55,913 : INFO : read 190000 reviews\n",
            "2019-07-19 10:09:56,581 : INFO : read 200000 reviews\n",
            "2019-07-19 10:09:57,259 : INFO : read 210000 reviews\n",
            "2019-07-19 10:09:57,952 : INFO : read 220000 reviews\n",
            "2019-07-19 10:09:58,627 : INFO : read 230000 reviews\n",
            "2019-07-19 10:09:59,288 : INFO : read 240000 reviews\n",
            "2019-07-19 10:09:59,964 : INFO : read 250000 reviews\n",
            "2019-07-19 10:10:00,674 : INFO : read 260000 reviews\n",
            "2019-07-19 10:10:01,362 : INFO : read 270000 reviews\n",
            "2019-07-19 10:10:02,361 : INFO : read 280000 reviews\n",
            "2019-07-19 10:10:03,077 : INFO : read 290000 reviews\n",
            "2019-07-19 10:10:03,772 : INFO : read 300000 reviews\n",
            "2019-07-19 10:10:04,461 : INFO : read 310000 reviews\n",
            "2019-07-19 10:10:05,255 : INFO : read 320000 reviews\n",
            "2019-07-19 10:10:05,966 : INFO : read 330000 reviews\n",
            "2019-07-19 10:10:06,686 : INFO : read 340000 reviews\n",
            "2019-07-19 10:10:07,411 : INFO : read 350000 reviews\n",
            "2019-07-19 10:10:08,129 : INFO : read 360000 reviews\n",
            "2019-07-19 10:10:08,834 : INFO : read 370000 reviews\n",
            "2019-07-19 10:10:09,538 : INFO : read 380000 reviews\n",
            "2019-07-19 10:10:10,601 : INFO : read 390000 reviews\n",
            "2019-07-19 10:10:11,346 : INFO : read 400000 reviews\n",
            "2019-07-19 10:10:12,046 : INFO : read 410000 reviews\n",
            "2019-07-19 10:10:12,779 : INFO : read 420000 reviews\n",
            "2019-07-19 10:10:13,489 : INFO : read 430000 reviews\n",
            "2019-07-19 10:10:14,200 : INFO : read 440000 reviews\n",
            "2019-07-19 10:10:14,879 : INFO : read 450000 reviews\n",
            "2019-07-19 10:10:15,579 : INFO : read 460000 reviews\n",
            "2019-07-19 10:10:16,264 : INFO : read 470000 reviews\n",
            "2019-07-19 10:10:16,955 : INFO : read 480000 reviews\n",
            "2019-07-19 10:10:17,650 : INFO : read 490000 reviews\n",
            "2019-07-19 10:10:18,329 : INFO : read 500000 reviews\n",
            "2019-07-19 10:10:19,050 : INFO : read 510000 reviews\n",
            "2019-07-19 10:10:19,437 : INFO : Done reading data file\n"
          ],
          "name": "stderr"
        }
      ]
    },
    {
      "cell_type": "code",
      "metadata": {
        "id": "uyXPB0O_gfK7",
        "colab_type": "code",
        "colab": {},
        "outputId": "267e29f6-7221-4992-fe9b-e1d1aa34c8aa"
      },
      "source": [
        "model = gensim.models.Word2Vec (documents, size=150, window=10, min_count=2, workers=10)"
      ],
      "execution_count": 0,
      "outputs": [
        {
          "output_type": "stream",
          "text": [
            "2019-07-19 10:16:27,445 : WARNING : consider setting layer size to a multiple of 4 for greater performance\n",
            "2019-07-19 10:16:27,449 : INFO : collecting all words and their counts\n",
            "2019-07-19 10:16:27,450 : INFO : PROGRESS: at sentence #0, processed 0 words, keeping 0 word types\n",
            "2019-07-19 10:16:27,527 : INFO : PROGRESS: at sentence #10000, processed 364516 words, keeping 10510 word types\n",
            "2019-07-19 10:16:27,588 : INFO : PROGRESS: at sentence #20000, processed 661195 words, keeping 13970 word types\n",
            "2019-07-19 10:16:27,653 : INFO : PROGRESS: at sentence #30000, processed 978765 words, keeping 16945 word types\n",
            "2019-07-19 10:16:27,718 : INFO : PROGRESS: at sentence #40000, processed 1297980 words, keeping 19453 word types\n",
            "2019-07-19 10:16:27,786 : INFO : PROGRESS: at sentence #50000, processed 1622590 words, keeping 21668 word types\n",
            "2019-07-19 10:16:27,852 : INFO : PROGRESS: at sentence #60000, processed 1930581 words, keeping 23671 word types\n",
            "2019-07-19 10:16:27,921 : INFO : PROGRESS: at sentence #70000, processed 2255669 words, keeping 25795 word types\n",
            "2019-07-19 10:16:27,990 : INFO : PROGRESS: at sentence #80000, processed 2576323 words, keeping 27442 word types\n",
            "2019-07-19 10:16:28,055 : INFO : PROGRESS: at sentence #90000, processed 2887251 words, keeping 29022 word types\n",
            "2019-07-19 10:16:28,124 : INFO : PROGRESS: at sentence #100000, processed 3214655 words, keeping 30715 word types\n",
            "2019-07-19 10:16:28,191 : INFO : PROGRESS: at sentence #110000, processed 3533187 words, keeping 32315 word types\n",
            "2019-07-19 10:16:28,259 : INFO : PROGRESS: at sentence #120000, processed 3869563 words, keeping 33933 word types\n",
            "2019-07-19 10:16:28,327 : INFO : PROGRESS: at sentence #130000, processed 4198361 words, keeping 35242 word types\n",
            "2019-07-19 10:16:28,393 : INFO : PROGRESS: at sentence #140000, processed 4533196 words, keeping 36556 word types\n",
            "2019-07-19 10:16:28,456 : INFO : PROGRESS: at sentence #150000, processed 4853222 words, keeping 37836 word types\n",
            "2019-07-19 10:16:28,522 : INFO : PROGRESS: at sentence #160000, processed 5165541 words, keeping 39107 word types\n",
            "2019-07-19 10:16:28,585 : INFO : PROGRESS: at sentence #170000, processed 5475670 words, keeping 40190 word types\n",
            "2019-07-19 10:16:28,649 : INFO : PROGRESS: at sentence #180000, processed 5788324 words, keeping 41365 word types\n",
            "2019-07-19 10:16:28,717 : INFO : PROGRESS: at sentence #190000, processed 6116097 words, keeping 42521 word types\n",
            "2019-07-19 10:16:28,781 : INFO : PROGRESS: at sentence #200000, processed 6435456 words, keeping 43605 word types\n",
            "2019-07-19 10:16:28,848 : INFO : PROGRESS: at sentence #210000, processed 6761576 words, keeping 44812 word types\n",
            "2019-07-19 10:16:28,914 : INFO : PROGRESS: at sentence #220000, processed 7092228 words, keeping 45879 word types\n",
            "2019-07-19 10:16:28,978 : INFO : PROGRESS: at sentence #230000, processed 7412472 words, keeping 46990 word types\n",
            "2019-07-19 10:16:29,050 : INFO : PROGRESS: at sentence #240000, processed 7729749 words, keeping 47870 word types\n",
            "2019-07-19 10:16:29,119 : INFO : PROGRESS: at sentence #250000, processed 8055779 words, keeping 48937 word types\n",
            "2019-07-19 10:16:29,189 : INFO : PROGRESS: at sentence #260000, processed 8380466 words, keeping 49936 word types\n",
            "2019-07-19 10:16:29,258 : INFO : PROGRESS: at sentence #270000, processed 8702813 words, keeping 50991 word types\n",
            "2019-07-19 10:16:29,333 : INFO : PROGRESS: at sentence #280000, processed 9059602 words, keeping 52393 word types\n",
            "2019-07-19 10:16:29,401 : INFO : PROGRESS: at sentence #290000, processed 9391754 words, keeping 53501 word types\n",
            "2019-07-19 10:16:29,468 : INFO : PROGRESS: at sentence #300000, processed 9704378 words, keeping 54646 word types\n",
            "2019-07-19 10:16:29,537 : INFO : PROGRESS: at sentence #310000, processed 10021200 words, keeping 55799 word types\n",
            "2019-07-19 10:16:29,613 : INFO : PROGRESS: at sentence #320000, processed 10358029 words, keeping 56975 word types\n",
            "2019-07-19 10:16:29,682 : INFO : PROGRESS: at sentence #330000, processed 10684282 words, keeping 58006 word types\n",
            "2019-07-19 10:16:29,753 : INFO : PROGRESS: at sentence #340000, processed 11016093 words, keeping 59201 word types\n",
            "2019-07-19 10:16:29,822 : INFO : PROGRESS: at sentence #350000, processed 11342555 words, keeping 60284 word types\n",
            "2019-07-19 10:16:29,888 : INFO : PROGRESS: at sentence #360000, processed 11665374 words, keeping 61348 word types\n",
            "2019-07-19 10:16:29,957 : INFO : PROGRESS: at sentence #370000, processed 11988485 words, keeping 62311 word types\n",
            "2019-07-19 10:16:30,022 : INFO : PROGRESS: at sentence #380000, processed 12317654 words, keeping 63501 word types\n",
            "2019-07-19 10:16:30,086 : INFO : PROGRESS: at sentence #390000, processed 12636499 words, keeping 64431 word types\n",
            "2019-07-19 10:16:30,154 : INFO : PROGRESS: at sentence #400000, processed 12972716 words, keeping 65497 word types\n",
            "2019-07-19 10:16:30,217 : INFO : PROGRESS: at sentence #410000, processed 13288582 words, keeping 66520 word types\n",
            "2019-07-19 10:16:30,290 : INFO : PROGRESS: at sentence #420000, processed 13646015 words, keeping 67587 word types\n",
            "2019-07-19 10:16:30,357 : INFO : PROGRESS: at sentence #430000, processed 13982074 words, keeping 68499 word types\n",
            "2019-07-19 10:16:30,423 : INFO : PROGRESS: at sentence #440000, processed 14312151 words, keeping 69368 word types\n",
            "2019-07-19 10:16:30,490 : INFO : PROGRESS: at sentence #450000, processed 14631610 words, keeping 70356 word types\n",
            "2019-07-19 10:16:30,558 : INFO : PROGRESS: at sentence #460000, processed 14966964 words, keeping 71139 word types\n",
            "2019-07-19 10:16:30,625 : INFO : PROGRESS: at sentence #470000, processed 15289752 words, keeping 72007 word types\n",
            "2019-07-19 10:16:30,693 : INFO : PROGRESS: at sentence #480000, processed 15612588 words, keeping 73029 word types\n",
            "2019-07-19 10:16:30,760 : INFO : PROGRESS: at sentence #490000, processed 15944358 words, keeping 74141 word types\n",
            "2019-07-19 10:16:30,824 : INFO : PROGRESS: at sentence #500000, processed 16269933 words, keeping 75109 word types\n",
            "2019-07-19 10:16:30,895 : INFO : PROGRESS: at sentence #510000, processed 16619638 words, keeping 76042 word types\n",
            "2019-07-19 10:16:30,935 : INFO : collected 76534 word types from a corpus of 16800046 raw words and 515738 sentences\n",
            "2019-07-19 10:16:30,936 : INFO : Loading a fresh vocabulary\n",
            "2019-07-19 10:16:31,447 : INFO : effective_min_count=2 retains 36839 unique words (48% of original 76534, drops 39695)\n",
            "2019-07-19 10:16:31,448 : INFO : effective_min_count=2 leaves 16760351 word corpus (99% of original 16800046, drops 39695)\n",
            "2019-07-19 10:16:31,569 : INFO : deleting the raw counts dictionary of 76534 items\n",
            "2019-07-19 10:16:31,573 : INFO : sample=0.001 downsamples 56 most-common words\n",
            "2019-07-19 10:16:31,574 : INFO : downsampling leaves estimated 11762932 word corpus (70.2% of prior 16760351)\n",
            "2019-07-19 10:16:31,694 : INFO : estimated required memory for 36839 words and 150 dimensions: 62626300 bytes\n",
            "2019-07-19 10:16:31,694 : INFO : resetting layer weights\n",
            "2019-07-19 10:16:32,132 : INFO : training model with 10 workers on 36839 vocabulary and 150 features, using sg=0 hs=0 sample=0.001 negative=5 window=10\n",
            "2019-07-19 10:16:33,147 : INFO : EPOCH 1 - PROGRESS: at 12.34% examples, 1427617 words/s, in_qsize 19, out_qsize 0\n",
            "2019-07-19 10:16:34,160 : INFO : EPOCH 1 - PROGRESS: at 24.51% examples, 1418432 words/s, in_qsize 20, out_qsize 1\n",
            "2019-07-19 10:16:35,171 : INFO : EPOCH 1 - PROGRESS: at 36.70% examples, 1413907 words/s, in_qsize 19, out_qsize 0\n",
            "2019-07-19 10:16:36,173 : INFO : EPOCH 1 - PROGRESS: at 49.20% examples, 1420871 words/s, in_qsize 18, out_qsize 1\n",
            "2019-07-19 10:16:37,176 : INFO : EPOCH 1 - PROGRESS: at 61.13% examples, 1420183 words/s, in_qsize 18, out_qsize 1\n",
            "2019-07-19 10:16:38,185 : INFO : EPOCH 1 - PROGRESS: at 71.89% examples, 1393285 words/s, in_qsize 18, out_qsize 1\n",
            "2019-07-19 10:16:39,201 : INFO : EPOCH 1 - PROGRESS: at 83.21% examples, 1385699 words/s, in_qsize 19, out_qsize 0\n",
            "2019-07-19 10:16:40,204 : INFO : EPOCH 1 - PROGRESS: at 95.20% examples, 1387731 words/s, in_qsize 19, out_qsize 0\n",
            "2019-07-19 10:16:40,570 : INFO : worker thread finished; awaiting finish of 9 more threads\n",
            "2019-07-19 10:16:40,576 : INFO : worker thread finished; awaiting finish of 8 more threads\n"
          ],
          "name": "stderr"
        },
        {
          "output_type": "stream",
          "text": [
            "2019-07-19 10:16:40,579 : INFO : worker thread finished; awaiting finish of 7 more threads\n",
            "2019-07-19 10:16:40,581 : INFO : worker thread finished; awaiting finish of 6 more threads\n",
            "2019-07-19 10:16:40,584 : INFO : worker thread finished; awaiting finish of 5 more threads\n",
            "2019-07-19 10:16:40,585 : INFO : worker thread finished; awaiting finish of 4 more threads\n",
            "2019-07-19 10:16:40,593 : INFO : worker thread finished; awaiting finish of 3 more threads\n",
            "2019-07-19 10:16:40,595 : INFO : worker thread finished; awaiting finish of 2 more threads\n",
            "2019-07-19 10:16:40,598 : INFO : worker thread finished; awaiting finish of 1 more threads\n",
            "2019-07-19 10:16:40,599 : INFO : worker thread finished; awaiting finish of 0 more threads\n",
            "2019-07-19 10:16:40,600 : INFO : EPOCH - 1 : training on 16800046 raw words (11761572 effective words) took 8.5s, 1391015 effective words/s\n",
            "2019-07-19 10:16:41,632 : INFO : EPOCH 2 - PROGRESS: at 11.94% examples, 1359642 words/s, in_qsize 17, out_qsize 2\n",
            "2019-07-19 10:16:42,648 : INFO : EPOCH 2 - PROGRESS: at 23.91% examples, 1361066 words/s, in_qsize 20, out_qsize 0\n",
            "2019-07-19 10:16:43,661 : INFO : EPOCH 2 - PROGRESS: at 35.48% examples, 1354167 words/s, in_qsize 19, out_qsize 0\n",
            "2019-07-19 10:16:44,663 : INFO : EPOCH 2 - PROGRESS: at 47.38% examples, 1362008 words/s, in_qsize 19, out_qsize 0\n",
            "2019-07-19 10:16:45,672 : INFO : EPOCH 2 - PROGRESS: at 59.74% examples, 1378298 words/s, in_qsize 17, out_qsize 2\n",
            "2019-07-19 10:16:46,672 : INFO : EPOCH 2 - PROGRESS: at 71.85% examples, 1386935 words/s, in_qsize 19, out_qsize 0\n",
            "2019-07-19 10:16:47,674 : INFO : EPOCH 2 - PROGRESS: at 83.92% examples, 1395794 words/s, in_qsize 19, out_qsize 0\n",
            "2019-07-19 10:16:48,678 : INFO : EPOCH 2 - PROGRESS: at 96.07% examples, 1398058 words/s, in_qsize 18, out_qsize 1\n",
            "2019-07-19 10:16:48,963 : INFO : worker thread finished; awaiting finish of 9 more threads\n",
            "2019-07-19 10:16:48,968 : INFO : worker thread finished; awaiting finish of 8 more threads\n",
            "2019-07-19 10:16:48,981 : INFO : worker thread finished; awaiting finish of 7 more threads\n",
            "2019-07-19 10:16:48,982 : INFO : worker thread finished; awaiting finish of 6 more threads\n",
            "2019-07-19 10:16:48,990 : INFO : worker thread finished; awaiting finish of 5 more threads\n",
            "2019-07-19 10:16:48,991 : INFO : worker thread finished; awaiting finish of 4 more threads\n",
            "2019-07-19 10:16:48,996 : INFO : worker thread finished; awaiting finish of 3 more threads\n",
            "2019-07-19 10:16:49,000 : INFO : worker thread finished; awaiting finish of 2 more threads\n",
            "2019-07-19 10:16:49,003 : INFO : worker thread finished; awaiting finish of 1 more threads\n",
            "2019-07-19 10:16:49,004 : INFO : worker thread finished; awaiting finish of 0 more threads\n",
            "2019-07-19 10:16:49,005 : INFO : EPOCH - 2 : training on 16800046 raw words (11760420 effective words) took 8.4s, 1400680 effective words/s\n",
            "2019-07-19 10:16:50,029 : INFO : EPOCH 3 - PROGRESS: at 11.65% examples, 1339145 words/s, in_qsize 19, out_qsize 0\n",
            "2019-07-19 10:16:51,037 : INFO : EPOCH 3 - PROGRESS: at 23.85% examples, 1370406 words/s, in_qsize 18, out_qsize 1\n",
            "2019-07-19 10:16:52,038 : INFO : EPOCH 3 - PROGRESS: at 36.09% examples, 1389095 words/s, in_qsize 19, out_qsize 0\n",
            "2019-07-19 10:16:53,048 : INFO : EPOCH 3 - PROGRESS: at 47.67% examples, 1376655 words/s, in_qsize 19, out_qsize 0\n",
            "2019-07-19 10:16:54,059 : INFO : EPOCH 3 - PROGRESS: at 58.62% examples, 1358120 words/s, in_qsize 19, out_qsize 0\n",
            "2019-07-19 10:16:55,060 : INFO : EPOCH 3 - PROGRESS: at 70.34% examples, 1362873 words/s, in_qsize 19, out_qsize 0\n",
            "2019-07-19 10:16:56,064 : INFO : EPOCH 3 - PROGRESS: at 81.97% examples, 1365125 words/s, in_qsize 19, out_qsize 0\n",
            "2019-07-19 10:16:57,065 : INFO : EPOCH 3 - PROGRESS: at 93.77% examples, 1368239 words/s, in_qsize 19, out_qsize 0\n",
            "2019-07-19 10:16:57,555 : INFO : worker thread finished; awaiting finish of 9 more threads\n",
            "2019-07-19 10:16:57,561 : INFO : worker thread finished; awaiting finish of 8 more threads\n",
            "2019-07-19 10:16:57,569 : INFO : worker thread finished; awaiting finish of 7 more threads\n",
            "2019-07-19 10:16:57,572 : INFO : worker thread finished; awaiting finish of 6 more threads\n",
            "2019-07-19 10:16:57,574 : INFO : worker thread finished; awaiting finish of 5 more threads\n",
            "2019-07-19 10:16:57,583 : INFO : worker thread finished; awaiting finish of 4 more threads\n",
            "2019-07-19 10:16:57,584 : INFO : worker thread finished; awaiting finish of 3 more threads\n",
            "2019-07-19 10:16:57,585 : INFO : worker thread finished; awaiting finish of 2 more threads\n",
            "2019-07-19 10:16:57,586 : INFO : worker thread finished; awaiting finish of 1 more threads\n",
            "2019-07-19 10:16:57,590 : INFO : worker thread finished; awaiting finish of 0 more threads\n",
            "2019-07-19 10:16:57,591 : INFO : EPOCH - 3 : training on 16800046 raw words (11764045 effective words) took 8.6s, 1372087 effective words/s\n",
            "2019-07-19 10:16:58,607 : INFO : EPOCH 4 - PROGRESS: at 11.61% examples, 1338177 words/s, in_qsize 18, out_qsize 1\n",
            "2019-07-19 10:16:59,612 : INFO : EPOCH 4 - PROGRESS: at 23.78% examples, 1372591 words/s, in_qsize 19, out_qsize 0\n",
            "2019-07-19 10:17:00,619 : INFO : EPOCH 4 - PROGRESS: at 35.79% examples, 1378368 words/s, in_qsize 19, out_qsize 0\n",
            "2019-07-19 10:17:01,630 : INFO : EPOCH 4 - PROGRESS: at 47.63% examples, 1377033 words/s, in_qsize 16, out_qsize 3\n",
            "2019-07-19 10:17:02,641 : INFO : EPOCH 4 - PROGRESS: at 59.70% examples, 1383067 words/s, in_qsize 18, out_qsize 1\n",
            "2019-07-19 10:17:03,651 : INFO : EPOCH 4 - PROGRESS: at 70.74% examples, 1367818 words/s, in_qsize 18, out_qsize 1\n",
            "2019-07-19 10:17:04,656 : INFO : EPOCH 4 - PROGRESS: at 81.71% examples, 1359088 words/s, in_qsize 19, out_qsize 0\n",
            "2019-07-19 10:17:05,667 : INFO : EPOCH 4 - PROGRESS: at 93.47% examples, 1360503 words/s, in_qsize 19, out_qsize 0\n",
            "2019-07-19 10:17:06,210 : INFO : worker thread finished; awaiting finish of 9 more threads\n",
            "2019-07-19 10:17:06,211 : INFO : worker thread finished; awaiting finish of 8 more threads\n",
            "2019-07-19 10:17:06,224 : INFO : worker thread finished; awaiting finish of 7 more threads\n",
            "2019-07-19 10:17:06,226 : INFO : worker thread finished; awaiting finish of 6 more threads\n",
            "2019-07-19 10:17:06,227 : INFO : worker thread finished; awaiting finish of 5 more threads\n",
            "2019-07-19 10:17:06,232 : INFO : worker thread finished; awaiting finish of 4 more threads\n",
            "2019-07-19 10:17:06,239 : INFO : worker thread finished; awaiting finish of 3 more threads\n",
            "2019-07-19 10:17:06,242 : INFO : worker thread finished; awaiting finish of 2 more threads\n",
            "2019-07-19 10:17:06,245 : INFO : worker thread finished; awaiting finish of 1 more threads\n",
            "2019-07-19 10:17:06,247 : INFO : worker thread finished; awaiting finish of 0 more threads\n",
            "2019-07-19 10:17:06,248 : INFO : EPOCH - 4 : training on 16800046 raw words (11761663 effective words) took 8.6s, 1360091 effective words/s\n",
            "2019-07-19 10:17:07,261 : INFO : EPOCH 5 - PROGRESS: at 11.36% examples, 1331311 words/s, in_qsize 17, out_qsize 2\n",
            "2019-07-19 10:17:08,264 : INFO : EPOCH 5 - PROGRESS: at 22.94% examples, 1335703 words/s, in_qsize 17, out_qsize 2\n",
            "2019-07-19 10:17:09,266 : INFO : EPOCH 5 - PROGRESS: at 33.55% examples, 1302868 words/s, in_qsize 19, out_qsize 0\n",
            "2019-07-19 10:17:10,270 : INFO : EPOCH 5 - PROGRESS: at 43.73% examples, 1269153 words/s, in_qsize 19, out_qsize 0\n",
            "2019-07-19 10:17:11,280 : INFO : EPOCH 5 - PROGRESS: at 54.92% examples, 1279302 words/s, in_qsize 17, out_qsize 2\n",
            "2019-07-19 10:17:12,286 : INFO : EPOCH 5 - PROGRESS: at 66.14% examples, 1284555 words/s, in_qsize 18, out_qsize 1\n",
            "2019-07-19 10:17:13,289 : INFO : EPOCH 5 - PROGRESS: at 77.06% examples, 1284017 words/s, in_qsize 19, out_qsize 0\n",
            "2019-07-19 10:17:14,300 : INFO : EPOCH 5 - PROGRESS: at 87.37% examples, 1277088 words/s, in_qsize 20, out_qsize 0\n",
            "2019-07-19 10:17:15,305 : INFO : EPOCH 5 - PROGRESS: at 97.94% examples, 1275228 words/s, in_qsize 19, out_qsize 0\n",
            "2019-07-19 10:17:15,454 : INFO : worker thread finished; awaiting finish of 9 more threads\n",
            "2019-07-19 10:17:15,455 : INFO : worker thread finished; awaiting finish of 8 more threads\n",
            "2019-07-19 10:17:15,462 : INFO : worker thread finished; awaiting finish of 7 more threads\n",
            "2019-07-19 10:17:15,467 : INFO : worker thread finished; awaiting finish of 6 more threads\n",
            "2019-07-19 10:17:15,467 : INFO : worker thread finished; awaiting finish of 5 more threads\n"
          ],
          "name": "stderr"
        },
        {
          "output_type": "stream",
          "text": [
            "2019-07-19 10:17:15,474 : INFO : worker thread finished; awaiting finish of 4 more threads\n",
            "2019-07-19 10:17:15,483 : INFO : worker thread finished; awaiting finish of 3 more threads\n",
            "2019-07-19 10:17:15,484 : INFO : worker thread finished; awaiting finish of 2 more threads\n",
            "2019-07-19 10:17:15,487 : INFO : worker thread finished; awaiting finish of 1 more threads\n",
            "2019-07-19 10:17:15,488 : INFO : worker thread finished; awaiting finish of 0 more threads\n",
            "2019-07-19 10:17:15,489 : INFO : EPOCH - 5 : training on 16800046 raw words (11765055 effective words) took 9.2s, 1274640 effective words/s\n",
            "2019-07-19 10:17:15,490 : INFO : training on a 84000230 raw words (58812755 effective words) took 43.4s, 1356402 effective words/s\n"
          ],
          "name": "stderr"
        }
      ]
    },
    {
      "cell_type": "code",
      "metadata": {
        "id": "XiBPBxn_gfK-",
        "colab_type": "code",
        "colab": {},
        "outputId": "6a03cadb-91f0-495b-f027-3248f5657399"
      },
      "source": [
        "model.train(documents,total_examples=len(documents),epochs=10)"
      ],
      "execution_count": 0,
      "outputs": [
        {
          "output_type": "stream",
          "text": [
            "2019-07-19 10:30:14,909 : WARNING : Effective 'alpha' higher than previous training cycles\n",
            "2019-07-19 10:30:14,910 : INFO : training model with 10 workers on 36839 vocabulary and 150 features, using sg=0 hs=0 sample=0.001 negative=5 window=10\n",
            "2019-07-19 10:30:15,925 : INFO : EPOCH 1 - PROGRESS: at 11.61% examples, 1344577 words/s, in_qsize 19, out_qsize 0\n",
            "2019-07-19 10:30:16,930 : INFO : EPOCH 1 - PROGRESS: at 23.65% examples, 1368727 words/s, in_qsize 19, out_qsize 0\n",
            "2019-07-19 10:30:17,931 : INFO : EPOCH 1 - PROGRESS: at 34.99% examples, 1352680 words/s, in_qsize 19, out_qsize 0\n",
            "2019-07-19 10:30:18,939 : INFO : EPOCH 1 - PROGRESS: at 46.65% examples, 1352364 words/s, in_qsize 18, out_qsize 1\n",
            "2019-07-19 10:30:19,940 : INFO : EPOCH 1 - PROGRESS: at 58.36% examples, 1359282 words/s, in_qsize 19, out_qsize 0\n",
            "2019-07-19 10:30:20,949 : INFO : EPOCH 1 - PROGRESS: at 69.91% examples, 1357287 words/s, in_qsize 19, out_qsize 0\n",
            "2019-07-19 10:30:21,954 : INFO : EPOCH 1 - PROGRESS: at 80.67% examples, 1344960 words/s, in_qsize 20, out_qsize 0\n",
            "2019-07-19 10:30:22,965 : INFO : EPOCH 1 - PROGRESS: at 92.52% examples, 1350969 words/s, in_qsize 18, out_qsize 1\n",
            "2019-07-19 10:30:23,539 : INFO : worker thread finished; awaiting finish of 9 more threads\n",
            "2019-07-19 10:30:23,546 : INFO : worker thread finished; awaiting finish of 8 more threads\n",
            "2019-07-19 10:30:23,555 : INFO : worker thread finished; awaiting finish of 7 more threads\n",
            "2019-07-19 10:30:23,561 : INFO : worker thread finished; awaiting finish of 6 more threads\n",
            "2019-07-19 10:30:23,562 : INFO : worker thread finished; awaiting finish of 5 more threads\n",
            "2019-07-19 10:30:23,563 : INFO : worker thread finished; awaiting finish of 4 more threads\n",
            "2019-07-19 10:30:23,565 : INFO : worker thread finished; awaiting finish of 3 more threads\n",
            "2019-07-19 10:30:23,579 : INFO : worker thread finished; awaiting finish of 2 more threads\n",
            "2019-07-19 10:30:23,582 : INFO : worker thread finished; awaiting finish of 1 more threads\n",
            "2019-07-19 10:30:23,584 : INFO : worker thread finished; awaiting finish of 0 more threads\n",
            "2019-07-19 10:30:23,584 : INFO : EPOCH - 1 : training on 16800046 raw words (11762384 effective words) took 8.7s, 1358041 effective words/s\n",
            "2019-07-19 10:30:24,608 : INFO : EPOCH 2 - PROGRESS: at 11.22% examples, 1291674 words/s, in_qsize 18, out_qsize 1\n",
            "2019-07-19 10:30:25,620 : INFO : EPOCH 2 - PROGRESS: at 23.18% examples, 1334003 words/s, in_qsize 18, out_qsize 1\n",
            "2019-07-19 10:30:26,621 : INFO : EPOCH 2 - PROGRESS: at 35.52% examples, 1369220 words/s, in_qsize 19, out_qsize 0\n",
            "2019-07-19 10:30:27,629 : INFO : EPOCH 2 - PROGRESS: at 48.06% examples, 1386750 words/s, in_qsize 18, out_qsize 1\n",
            "2019-07-19 10:30:28,639 : INFO : EPOCH 2 - PROGRESS: at 59.32% examples, 1374552 words/s, in_qsize 19, out_qsize 0\n",
            "2019-07-19 10:30:29,644 : INFO : EPOCH 2 - PROGRESS: at 70.69% examples, 1367669 words/s, in_qsize 19, out_qsize 0\n",
            "2019-07-19 10:30:30,648 : INFO : EPOCH 2 - PROGRESS: at 82.09% examples, 1366088 words/s, in_qsize 20, out_qsize 0\n",
            "2019-07-19 10:30:31,650 : INFO : EPOCH 2 - PROGRESS: at 94.04% examples, 1370646 words/s, in_qsize 19, out_qsize 0\n",
            "2019-07-19 10:30:32,110 : INFO : worker thread finished; awaiting finish of 9 more threads\n",
            "2019-07-19 10:30:32,117 : INFO : worker thread finished; awaiting finish of 8 more threads\n",
            "2019-07-19 10:30:32,118 : INFO : worker thread finished; awaiting finish of 7 more threads\n",
            "2019-07-19 10:30:32,122 : INFO : worker thread finished; awaiting finish of 6 more threads\n",
            "2019-07-19 10:30:32,131 : INFO : worker thread finished; awaiting finish of 5 more threads\n",
            "2019-07-19 10:30:32,142 : INFO : worker thread finished; awaiting finish of 4 more threads\n",
            "2019-07-19 10:30:32,145 : INFO : worker thread finished; awaiting finish of 3 more threads\n",
            "2019-07-19 10:30:32,146 : INFO : worker thread finished; awaiting finish of 2 more threads\n",
            "2019-07-19 10:30:32,149 : INFO : worker thread finished; awaiting finish of 1 more threads\n",
            "2019-07-19 10:30:32,154 : INFO : worker thread finished; awaiting finish of 0 more threads\n",
            "2019-07-19 10:30:32,155 : INFO : EPOCH - 2 : training on 16800046 raw words (11761878 effective words) took 8.6s, 1374427 effective words/s\n",
            "2019-07-19 10:30:33,170 : INFO : EPOCH 3 - PROGRESS: at 11.38% examples, 1330251 words/s, in_qsize 19, out_qsize 0\n",
            "2019-07-19 10:30:34,174 : INFO : EPOCH 3 - PROGRESS: at 22.99% examples, 1333347 words/s, in_qsize 18, out_qsize 1\n",
            "2019-07-19 10:30:35,179 : INFO : EPOCH 3 - PROGRESS: at 35.32% examples, 1362640 words/s, in_qsize 19, out_qsize 0\n",
            "2019-07-19 10:30:36,182 : INFO : EPOCH 3 - PROGRESS: at 47.74% examples, 1385610 words/s, in_qsize 17, out_qsize 2\n",
            "2019-07-19 10:30:37,184 : INFO : EPOCH 3 - PROGRESS: at 60.15% examples, 1400741 words/s, in_qsize 19, out_qsize 0\n",
            "2019-07-19 10:30:38,186 : INFO : EPOCH 3 - PROGRESS: at 72.36% examples, 1407855 words/s, in_qsize 19, out_qsize 0\n",
            "2019-07-19 10:30:39,197 : INFO : EPOCH 3 - PROGRESS: at 84.35% examples, 1409847 words/s, in_qsize 18, out_qsize 1\n",
            "2019-07-19 10:30:40,210 : INFO : EPOCH 3 - PROGRESS: at 96.25% examples, 1406309 words/s, in_qsize 18, out_qsize 1\n",
            "2019-07-19 10:30:40,492 : INFO : worker thread finished; awaiting finish of 9 more threads\n",
            "2019-07-19 10:30:40,503 : INFO : worker thread finished; awaiting finish of 8 more threads\n",
            "2019-07-19 10:30:40,506 : INFO : worker thread finished; awaiting finish of 7 more threads\n",
            "2019-07-19 10:30:40,510 : INFO : worker thread finished; awaiting finish of 6 more threads\n",
            "2019-07-19 10:30:40,513 : INFO : worker thread finished; awaiting finish of 5 more threads\n",
            "2019-07-19 10:30:40,514 : INFO : worker thread finished; awaiting finish of 4 more threads\n",
            "2019-07-19 10:30:40,519 : INFO : worker thread finished; awaiting finish of 3 more threads\n",
            "2019-07-19 10:30:40,521 : INFO : worker thread finished; awaiting finish of 2 more threads\n",
            "2019-07-19 10:30:40,528 : INFO : worker thread finished; awaiting finish of 1 more threads\n",
            "2019-07-19 10:30:40,529 : INFO : worker thread finished; awaiting finish of 0 more threads\n",
            "2019-07-19 10:30:40,530 : INFO : EPOCH - 3 : training on 16800046 raw words (11762977 effective words) took 8.4s, 1406659 effective words/s\n",
            "2019-07-19 10:30:41,548 : INFO : EPOCH 4 - PROGRESS: at 11.53% examples, 1334035 words/s, in_qsize 19, out_qsize 0\n",
            "2019-07-19 10:30:42,552 : INFO : EPOCH 4 - PROGRESS: at 23.34% examples, 1349752 words/s, in_qsize 17, out_qsize 2\n",
            "2019-07-19 10:30:43,564 : INFO : EPOCH 4 - PROGRESS: at 34.98% examples, 1344716 words/s, in_qsize 17, out_qsize 2\n",
            "2019-07-19 10:30:44,566 : INFO : EPOCH 4 - PROGRESS: at 47.01% examples, 1360724 words/s, in_qsize 19, out_qsize 0\n",
            "2019-07-19 10:30:45,579 : INFO : EPOCH 4 - PROGRESS: at 58.66% examples, 1361328 words/s, in_qsize 17, out_qsize 2\n",
            "2019-07-19 10:30:46,593 : INFO : EPOCH 4 - PROGRESS: at 70.67% examples, 1367122 words/s, in_qsize 18, out_qsize 1\n",
            "2019-07-19 10:30:47,594 : INFO : EPOCH 4 - PROGRESS: at 82.28% examples, 1370214 words/s, in_qsize 19, out_qsize 0\n",
            "2019-07-19 10:30:48,596 : INFO : EPOCH 4 - PROGRESS: at 93.81% examples, 1368350 words/s, in_qsize 19, out_qsize 0\n",
            "2019-07-19 10:30:49,105 : INFO : worker thread finished; awaiting finish of 9 more threads\n",
            "2019-07-19 10:30:49,110 : INFO : worker thread finished; awaiting finish of 8 more threads\n",
            "2019-07-19 10:30:49,122 : INFO : worker thread finished; awaiting finish of 7 more threads\n",
            "2019-07-19 10:30:49,126 : INFO : worker thread finished; awaiting finish of 6 more threads\n",
            "2019-07-19 10:30:49,128 : INFO : worker thread finished; awaiting finish of 5 more threads\n",
            "2019-07-19 10:30:49,134 : INFO : worker thread finished; awaiting finish of 4 more threads\n",
            "2019-07-19 10:30:49,136 : INFO : worker thread finished; awaiting finish of 3 more threads\n",
            "2019-07-19 10:30:49,145 : INFO : worker thread finished; awaiting finish of 2 more threads\n",
            "2019-07-19 10:30:49,148 : INFO : worker thread finished; awaiting finish of 1 more threads\n",
            "2019-07-19 10:30:49,154 : INFO : worker thread finished; awaiting finish of 0 more threads\n",
            "2019-07-19 10:30:49,156 : INFO : EPOCH - 4 : training on 16800046 raw words (11764782 effective words) took 8.6s, 1365949 effective words/s\n",
            "2019-07-19 10:30:50,168 : INFO : EPOCH 5 - PROGRESS: at 10.97% examples, 1275947 words/s, in_qsize 19, out_qsize 0\n"
          ],
          "name": "stderr"
        },
        {
          "output_type": "stream",
          "text": [
            "2019-07-19 10:30:51,180 : INFO : EPOCH 5 - PROGRESS: at 22.36% examples, 1291508 words/s, in_qsize 18, out_qsize 1\n",
            "2019-07-19 10:30:52,196 : INFO : EPOCH 5 - PROGRESS: at 34.27% examples, 1313221 words/s, in_qsize 18, out_qsize 1\n",
            "2019-07-19 10:30:53,209 : INFO : EPOCH 5 - PROGRESS: at 45.61% examples, 1316287 words/s, in_qsize 17, out_qsize 2\n",
            "2019-07-19 10:30:54,214 : INFO : EPOCH 5 - PROGRESS: at 57.04% examples, 1322260 words/s, in_qsize 20, out_qsize 0\n",
            "2019-07-19 10:30:55,221 : INFO : EPOCH 5 - PROGRESS: at 68.36% examples, 1321308 words/s, in_qsize 18, out_qsize 1\n",
            "2019-07-19 10:30:56,221 : INFO : EPOCH 5 - PROGRESS: at 79.89% examples, 1326754 words/s, in_qsize 19, out_qsize 0\n",
            "2019-07-19 10:30:57,223 : INFO : EPOCH 5 - PROGRESS: at 90.89% examples, 1325508 words/s, in_qsize 19, out_qsize 0\n",
            "2019-07-19 10:30:57,986 : INFO : worker thread finished; awaiting finish of 9 more threads\n",
            "2019-07-19 10:30:57,989 : INFO : worker thread finished; awaiting finish of 8 more threads\n",
            "2019-07-19 10:30:57,994 : INFO : worker thread finished; awaiting finish of 7 more threads\n",
            "2019-07-19 10:30:57,995 : INFO : worker thread finished; awaiting finish of 6 more threads\n",
            "2019-07-19 10:30:57,995 : INFO : worker thread finished; awaiting finish of 5 more threads\n",
            "2019-07-19 10:30:58,009 : INFO : worker thread finished; awaiting finish of 4 more threads\n",
            "2019-07-19 10:30:58,010 : INFO : worker thread finished; awaiting finish of 3 more threads\n",
            "2019-07-19 10:30:58,012 : INFO : worker thread finished; awaiting finish of 2 more threads\n",
            "2019-07-19 10:30:58,014 : INFO : worker thread finished; awaiting finish of 1 more threads\n",
            "2019-07-19 10:30:58,016 : INFO : worker thread finished; awaiting finish of 0 more threads\n",
            "2019-07-19 10:30:58,017 : INFO : EPOCH - 5 : training on 16800046 raw words (11764146 effective words) took 8.8s, 1329304 effective words/s\n",
            "2019-07-19 10:30:59,031 : INFO : EPOCH 6 - PROGRESS: at 10.03% examples, 1169058 words/s, in_qsize 19, out_qsize 0\n",
            "2019-07-19 10:31:00,039 : INFO : EPOCH 6 - PROGRESS: at 21.21% examples, 1226614 words/s, in_qsize 17, out_qsize 2\n",
            "2019-07-19 10:31:01,040 : INFO : EPOCH 6 - PROGRESS: at 32.25% examples, 1251814 words/s, in_qsize 19, out_qsize 0\n",
            "2019-07-19 10:31:02,050 : INFO : EPOCH 6 - PROGRESS: at 43.25% examples, 1251117 words/s, in_qsize 19, out_qsize 0\n",
            "2019-07-19 10:31:03,060 : INFO : EPOCH 6 - PROGRESS: at 53.63% examples, 1242958 words/s, in_qsize 18, out_qsize 1\n",
            "2019-07-19 10:31:04,071 : INFO : EPOCH 6 - PROGRESS: at 63.50% examples, 1229090 words/s, in_qsize 19, out_qsize 0\n",
            "2019-07-19 10:31:05,074 : INFO : EPOCH 6 - PROGRESS: at 74.07% examples, 1231225 words/s, in_qsize 19, out_qsize 0\n",
            "2019-07-19 10:31:06,076 : INFO : EPOCH 6 - PROGRESS: at 84.99% examples, 1241066 words/s, in_qsize 19, out_qsize 0\n",
            "2019-07-19 10:31:07,080 : INFO : EPOCH 6 - PROGRESS: at 96.23% examples, 1248582 words/s, in_qsize 18, out_qsize 1\n",
            "2019-07-19 10:31:07,391 : INFO : worker thread finished; awaiting finish of 9 more threads\n",
            "2019-07-19 10:31:07,394 : INFO : worker thread finished; awaiting finish of 8 more threads\n",
            "2019-07-19 10:31:07,402 : INFO : worker thread finished; awaiting finish of 7 more threads\n",
            "2019-07-19 10:31:07,405 : INFO : worker thread finished; awaiting finish of 6 more threads\n",
            "2019-07-19 10:31:07,411 : INFO : worker thread finished; awaiting finish of 5 more threads\n",
            "2019-07-19 10:31:07,412 : INFO : worker thread finished; awaiting finish of 4 more threads\n",
            "2019-07-19 10:31:07,415 : INFO : worker thread finished; awaiting finish of 3 more threads\n",
            "2019-07-19 10:31:07,416 : INFO : worker thread finished; awaiting finish of 2 more threads\n",
            "2019-07-19 10:31:07,423 : INFO : worker thread finished; awaiting finish of 1 more threads\n",
            "2019-07-19 10:31:07,427 : INFO : worker thread finished; awaiting finish of 0 more threads\n",
            "2019-07-19 10:31:07,427 : INFO : EPOCH - 6 : training on 16800046 raw words (11761508 effective words) took 9.4s, 1251420 effective words/s\n",
            "2019-07-19 10:31:08,443 : INFO : EPOCH 7 - PROGRESS: at 10.76% examples, 1248773 words/s, in_qsize 19, out_qsize 0\n",
            "2019-07-19 10:31:09,450 : INFO : EPOCH 7 - PROGRESS: at 21.23% examples, 1228597 words/s, in_qsize 19, out_qsize 0\n",
            "2019-07-19 10:31:10,459 : INFO : EPOCH 7 - PROGRESS: at 32.41% examples, 1252434 words/s, in_qsize 19, out_qsize 0\n",
            "2019-07-19 10:31:11,464 : INFO : EPOCH 7 - PROGRESS: at 43.30% examples, 1253499 words/s, in_qsize 19, out_qsize 0\n",
            "2019-07-19 10:31:12,468 : INFO : EPOCH 7 - PROGRESS: at 54.08% examples, 1255774 words/s, in_qsize 19, out_qsize 0\n",
            "2019-07-19 10:31:13,468 : INFO : EPOCH 7 - PROGRESS: at 64.62% examples, 1255849 words/s, in_qsize 19, out_qsize 0\n",
            "2019-07-19 10:31:14,481 : INFO : EPOCH 7 - PROGRESS: at 74.58% examples, 1240637 words/s, in_qsize 19, out_qsize 0\n",
            "2019-07-19 10:31:15,481 : INFO : EPOCH 7 - PROGRESS: at 85.42% examples, 1248668 words/s, in_qsize 19, out_qsize 0\n",
            "2019-07-19 10:31:16,486 : INFO : EPOCH 7 - PROGRESS: at 96.63% examples, 1255255 words/s, in_qsize 18, out_qsize 1\n",
            "2019-07-19 10:31:16,764 : INFO : worker thread finished; awaiting finish of 9 more threads\n",
            "2019-07-19 10:31:16,769 : INFO : worker thread finished; awaiting finish of 8 more threads\n",
            "2019-07-19 10:31:16,774 : INFO : worker thread finished; awaiting finish of 7 more threads\n",
            "2019-07-19 10:31:16,783 : INFO : worker thread finished; awaiting finish of 6 more threads\n",
            "2019-07-19 10:31:16,786 : INFO : worker thread finished; awaiting finish of 5 more threads\n",
            "2019-07-19 10:31:16,794 : INFO : worker thread finished; awaiting finish of 4 more threads\n",
            "2019-07-19 10:31:16,800 : INFO : worker thread finished; awaiting finish of 3 more threads\n",
            "2019-07-19 10:31:16,803 : INFO : worker thread finished; awaiting finish of 2 more threads\n",
            "2019-07-19 10:31:16,805 : INFO : worker thread finished; awaiting finish of 1 more threads\n",
            "2019-07-19 10:31:16,810 : INFO : worker thread finished; awaiting finish of 0 more threads\n",
            "2019-07-19 10:31:16,811 : INFO : EPOCH - 7 : training on 16800046 raw words (11763630 effective words) took 9.4s, 1255647 effective words/s\n",
            "2019-07-19 10:31:17,834 : INFO : EPOCH 8 - PROGRESS: at 9.67% examples, 1118392 words/s, in_qsize 17, out_qsize 2\n",
            "2019-07-19 10:31:18,836 : INFO : EPOCH 8 - PROGRESS: at 21.23% examples, 1225327 words/s, in_qsize 19, out_qsize 0\n",
            "2019-07-19 10:31:19,837 : INFO : EPOCH 8 - PROGRESS: at 32.49% examples, 1258031 words/s, in_qsize 19, out_qsize 0\n",
            "2019-07-19 10:31:20,843 : INFO : EPOCH 8 - PROGRESS: at 43.60% examples, 1262471 words/s, in_qsize 18, out_qsize 1\n",
            "2019-07-19 10:31:21,851 : INFO : EPOCH 8 - PROGRESS: at 54.41% examples, 1264680 words/s, in_qsize 20, out_qsize 0\n",
            "2019-07-19 10:31:22,852 : INFO : EPOCH 8 - PROGRESS: at 65.75% examples, 1275806 words/s, in_qsize 19, out_qsize 0\n",
            "2019-07-19 10:31:23,855 : INFO : EPOCH 8 - PROGRESS: at 77.11% examples, 1284262 words/s, in_qsize 19, out_qsize 0\n",
            "2019-07-19 10:31:24,861 : INFO : EPOCH 8 - PROGRESS: at 87.94% examples, 1285148 words/s, in_qsize 19, out_qsize 0\n",
            "2019-07-19 10:31:25,864 : INFO : EPOCH 8 - PROGRESS: at 98.61% examples, 1282021 words/s, in_qsize 19, out_qsize 0\n",
            "2019-07-19 10:31:25,954 : INFO : worker thread finished; awaiting finish of 9 more threads\n",
            "2019-07-19 10:31:25,969 : INFO : worker thread finished; awaiting finish of 8 more threads\n",
            "2019-07-19 10:31:25,970 : INFO : worker thread finished; awaiting finish of 7 more threads\n",
            "2019-07-19 10:31:25,972 : INFO : worker thread finished; awaiting finish of 6 more threads\n",
            "2019-07-19 10:31:25,976 : INFO : worker thread finished; awaiting finish of 5 more threads\n",
            "2019-07-19 10:31:25,980 : INFO : worker thread finished; awaiting finish of 4 more threads\n",
            "2019-07-19 10:31:25,980 : INFO : worker thread finished; awaiting finish of 3 more threads\n",
            "2019-07-19 10:31:25,981 : INFO : worker thread finished; awaiting finish of 2 more threads\n",
            "2019-07-19 10:31:25,984 : INFO : worker thread finished; awaiting finish of 1 more threads\n",
            "2019-07-19 10:31:25,991 : INFO : worker thread finished; awaiting finish of 0 more threads\n",
            "2019-07-19 10:31:25,992 : INFO : EPOCH - 8 : training on 16800046 raw words (11762835 effective words) took 9.2s, 1282982 effective words/s\n",
            "2019-07-19 10:31:27,017 : INFO : EPOCH 9 - PROGRESS: at 11.26% examples, 1296253 words/s, in_qsize 19, out_qsize 0\n"
          ],
          "name": "stderr"
        },
        {
          "output_type": "stream",
          "text": [
            "2019-07-19 10:31:28,021 : INFO : EPOCH 9 - PROGRESS: at 22.50% examples, 1296626 words/s, in_qsize 17, out_qsize 2\n",
            "2019-07-19 10:31:29,028 : INFO : EPOCH 9 - PROGRESS: at 33.86% examples, 1302454 words/s, in_qsize 19, out_qsize 1\n",
            "2019-07-19 10:31:30,028 : INFO : EPOCH 9 - PROGRESS: at 45.23% examples, 1308360 words/s, in_qsize 19, out_qsize 0\n",
            "2019-07-19 10:31:31,037 : INFO : EPOCH 9 - PROGRESS: at 55.86% examples, 1297105 words/s, in_qsize 19, out_qsize 0\n",
            "2019-07-19 10:31:32,045 : INFO : EPOCH 9 - PROGRESS: at 67.19% examples, 1301171 words/s, in_qsize 19, out_qsize 0\n",
            "2019-07-19 10:31:33,047 : INFO : EPOCH 9 - PROGRESS: at 78.16% examples, 1299314 words/s, in_qsize 19, out_qsize 0\n",
            "2019-07-19 10:31:34,049 : INFO : EPOCH 9 - PROGRESS: at 89.11% examples, 1300549 words/s, in_qsize 19, out_qsize 0\n",
            "2019-07-19 10:31:34,982 : INFO : worker thread finished; awaiting finish of 9 more threads\n",
            "2019-07-19 10:31:34,985 : INFO : worker thread finished; awaiting finish of 8 more threads\n",
            "2019-07-19 10:31:34,991 : INFO : worker thread finished; awaiting finish of 7 more threads\n",
            "2019-07-19 10:31:34,994 : INFO : worker thread finished; awaiting finish of 6 more threads\n",
            "2019-07-19 10:31:35,001 : INFO : worker thread finished; awaiting finish of 5 more threads\n",
            "2019-07-19 10:31:35,008 : INFO : worker thread finished; awaiting finish of 4 more threads\n",
            "2019-07-19 10:31:35,013 : INFO : worker thread finished; awaiting finish of 3 more threads\n",
            "2019-07-19 10:31:35,019 : INFO : worker thread finished; awaiting finish of 2 more threads\n",
            "2019-07-19 10:31:35,020 : INFO : worker thread finished; awaiting finish of 1 more threads\n",
            "2019-07-19 10:31:35,022 : INFO : worker thread finished; awaiting finish of 0 more threads\n",
            "2019-07-19 10:31:35,022 : INFO : EPOCH - 9 : training on 16800046 raw words (11763683 effective words) took 9.0s, 1304481 effective words/s\n",
            "2019-07-19 10:31:36,040 : INFO : EPOCH 10 - PROGRESS: at 10.97% examples, 1263174 words/s, in_qsize 19, out_qsize 0\n",
            "2019-07-19 10:31:37,045 : INFO : EPOCH 10 - PROGRESS: at 22.42% examples, 1300084 words/s, in_qsize 18, out_qsize 1\n",
            "2019-07-19 10:31:38,053 : INFO : EPOCH 10 - PROGRESS: at 33.32% examples, 1288305 words/s, in_qsize 19, out_qsize 0\n",
            "2019-07-19 10:31:39,053 : INFO : EPOCH 10 - PROGRESS: at 45.05% examples, 1304375 words/s, in_qsize 20, out_qsize 0\n",
            "2019-07-19 10:31:40,057 : INFO : EPOCH 10 - PROGRESS: at 56.33% examples, 1310183 words/s, in_qsize 18, out_qsize 1\n",
            "2019-07-19 10:31:41,074 : INFO : EPOCH 10 - PROGRESS: at 68.00% examples, 1317370 words/s, in_qsize 16, out_qsize 3\n",
            "2019-07-19 10:31:42,077 : INFO : EPOCH 10 - PROGRESS: at 79.35% examples, 1318855 words/s, in_qsize 18, out_qsize 1\n",
            "2019-07-19 10:31:43,082 : INFO : EPOCH 10 - PROGRESS: at 90.54% examples, 1321513 words/s, in_qsize 19, out_qsize 1\n",
            "2019-07-19 10:31:43,940 : INFO : worker thread finished; awaiting finish of 9 more threads\n",
            "2019-07-19 10:31:43,951 : INFO : worker thread finished; awaiting finish of 8 more threads\n",
            "2019-07-19 10:31:43,960 : INFO : worker thread finished; awaiting finish of 7 more threads\n",
            "2019-07-19 10:31:43,964 : INFO : worker thread finished; awaiting finish of 6 more threads\n",
            "2019-07-19 10:31:43,966 : INFO : worker thread finished; awaiting finish of 5 more threads\n",
            "2019-07-19 10:31:43,967 : INFO : worker thread finished; awaiting finish of 4 more threads\n",
            "2019-07-19 10:31:43,970 : INFO : worker thread finished; awaiting finish of 3 more threads\n",
            "2019-07-19 10:31:43,981 : INFO : worker thread finished; awaiting finish of 2 more threads\n",
            "2019-07-19 10:31:43,983 : INFO : worker thread finished; awaiting finish of 1 more threads\n",
            "2019-07-19 10:31:43,984 : INFO : worker thread finished; awaiting finish of 0 more threads\n",
            "2019-07-19 10:31:43,985 : INFO : EPOCH - 10 : training on 16800046 raw words (11761497 effective words) took 9.0s, 1314090 effective words/s\n",
            "2019-07-19 10:31:43,986 : INFO : training on a 168000460 raw words (117629320 effective words) took 89.1s, 1320527 effective words/s\n"
          ],
          "name": "stderr"
        },
        {
          "output_type": "execute_result",
          "data": {
            "text/plain": [
              "(117629320, 168000460)"
            ]
          },
          "metadata": {
            "tags": []
          },
          "execution_count": 12
        }
      ]
    },
    {
      "cell_type": "code",
      "metadata": {
        "id": "zcBWgOi8gfLB",
        "colab_type": "code",
        "colab": {},
        "outputId": "194b5f73-0a7b-4f8c-921a-25297631adfd"
      },
      "source": [
        "model.wv.save(\"hotel_wv\")"
      ],
      "execution_count": 0,
      "outputs": [
        {
          "output_type": "stream",
          "text": [
            "2019-07-19 10:39:36,618 : INFO : saving Word2VecKeyedVectors object under hotel_wv, separately None\n",
            "2019-07-19 10:39:36,619 : INFO : not storing attribute vectors_norm\n",
            "2019-07-19 10:39:36,985 : INFO : saved hotel_wv\n"
          ],
          "name": "stderr"
        }
      ]
    },
    {
      "cell_type": "code",
      "metadata": {
        "id": "DzfI_KVbgfLD",
        "colab_type": "code",
        "colab": {},
        "outputId": "00f09d24-0a6a-4820-e29a-edfc39a4e1d9"
      },
      "source": [
        "model_new =  KeyedVectors.load(\"hotel_wv\", mmap='r')"
      ],
      "execution_count": 0,
      "outputs": [
        {
          "output_type": "stream",
          "text": [
            "2019-07-19 10:49:50,124 : INFO : loading Word2VecKeyedVectors object from hotel_wv\n",
            "2019-07-19 10:49:50,328 : INFO : setting ignored attribute vectors_norm to None\n",
            "2019-07-19 10:49:50,329 : INFO : loaded hotel_wv\n"
          ],
          "name": "stderr"
        }
      ]
    },
    {
      "cell_type": "code",
      "metadata": {
        "id": "a9HiJJiPgfLH",
        "colab_type": "code",
        "colab": {}
      },
      "source": [
        ""
      ],
      "execution_count": 0,
      "outputs": []
    }
  ]
}