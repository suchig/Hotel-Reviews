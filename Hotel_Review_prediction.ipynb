{
  "nbformat": 4,
  "nbformat_minor": 0,
  "metadata": {
    "colab": {
      "name": "Hotel Review prediction.ipynb",
      "version": "0.3.2",
      "provenance": [],
      "collapsed_sections": [],
      "include_colab_link": true
    },
    "language_info": {
      "codemirror_mode": {
        "name": "ipython",
        "version": 3
      },
      "file_extension": ".py",
      "mimetype": "text/x-python",
      "name": "python",
      "nbconvert_exporter": "python",
      "pygments_lexer": "ipython3",
      "version": "3.6.8"
    },
    "kernelspec": {
      "name": "python3",
      "display_name": "Python 3"
    },
    "accelerator": "GPU"
  },
  "cells": [
    {
      "cell_type": "markdown",
      "metadata": {
        "id": "view-in-github",
        "colab_type": "text"
      },
      "source": [
        "<a href=\"https://colab.research.google.com/github/suchig/Hotel-Reviews/blob/master/Hotel_Review_prediction.ipynb\" target=\"_parent\"><img src=\"https://colab.research.google.com/assets/colab-badge.svg\" alt=\"Open In Colab\"/></a>"
      ]
    },
    {
      "cell_type": "code",
      "metadata": {
        "id": "nN-yO6O-49UI",
        "colab_type": "code",
        "colab": {
          "base_uri": "https://localhost:8080/",
          "height": 241
        },
        "outputId": "27b0d451-b06a-4959-8704-3b430625172e"
      },
      "source": [
        "import warnings\n",
        "warnings.filterwarnings('ignore')\n",
        "\n",
        "import numpy as np\n",
        "import pandas as pd\n",
        "%matplotlib inline\n",
        "import seaborn as sns\n",
        "from matplotlib import pyplot as plt\n",
        "\n",
        "from sklearn.model_selection import train_test_split\n",
        "from sklearn.feature_extraction.text import CountVectorizer, TfidfTransformer, TfidfVectorizer\n",
        "from sklearn.naive_bayes import MultinomialNB\n",
        "from sklearn.metrics import accuracy_score, mean_squared_error, r2_score\n",
        "from sklearn.linear_model import SGDClassifier, LinearRegression\n",
        "from sklearn.model_selection import cross_validate\n",
        "from sklearn.preprocessing import StandardScaler\n",
        "\n",
        "from scipy.sparse import hstack, csr_matrix\n",
        "\n",
        "!pip install   xgboost\n",
        "import xgboost as xgb\n",
        "from xgboost import XGBRegressor\n",
        "\n",
        "import nltk\n",
        "import string\n",
        "from nltk.stem import WordNetLemmatizer\n",
        "from nltk.corpus import stopwords\n",
        "\n",
        "!pip install hyperopt\n",
        "from hyperopt import fmin, tpe, STATUS_OK, Trials, hp;"
      ],
      "execution_count": 127,
      "outputs": [
        {
          "output_type": "stream",
          "text": [
            "Requirement already satisfied: xgboost in /usr/local/lib/python3.6/dist-packages (0.90)\n",
            "Requirement already satisfied: numpy in /usr/local/lib/python3.6/dist-packages (from xgboost) (1.16.4)\n",
            "Requirement already satisfied: scipy in /usr/local/lib/python3.6/dist-packages (from xgboost) (1.3.0)\n",
            "Requirement already satisfied: hyperopt in /usr/local/lib/python3.6/dist-packages (0.1.2)\n",
            "Requirement already satisfied: pymongo in /usr/local/lib/python3.6/dist-packages (from hyperopt) (3.8.0)\n",
            "Requirement already satisfied: numpy in /usr/local/lib/python3.6/dist-packages (from hyperopt) (1.16.4)\n",
            "Requirement already satisfied: networkx in /usr/local/lib/python3.6/dist-packages (from hyperopt) (2.3)\n",
            "Requirement already satisfied: six in /usr/local/lib/python3.6/dist-packages (from hyperopt) (1.12.0)\n",
            "Requirement already satisfied: scipy in /usr/local/lib/python3.6/dist-packages (from hyperopt) (1.3.0)\n",
            "Requirement already satisfied: tqdm in /usr/local/lib/python3.6/dist-packages (from hyperopt) (4.28.1)\n",
            "Requirement already satisfied: future in /usr/local/lib/python3.6/dist-packages (from hyperopt) (0.16.0)\n",
            "Requirement already satisfied: decorator>=4.3.0 in /usr/local/lib/python3.6/dist-packages (from networkx->hyperopt) (4.4.0)\n"
          ],
          "name": "stdout"
        }
      ]
    },
    {
      "cell_type": "markdown",
      "metadata": {
        "id": "4fc0ShMiSQDt",
        "colab_type": "text"
      },
      "source": [
        "---\n",
        "# Initialization of data\n",
        "Read the Hotel reviews csv file and examine its structure and information\n"
      ]
    },
    {
      "cell_type": "code",
      "metadata": {
        "id": "lTilHbhE49UM",
        "colab_type": "code",
        "colab": {
          "base_uri": "https://localhost:8080/",
          "height": 425
        },
        "outputId": "cb741869-f8ce-4a87-8359-7e45a99587d5"
      },
      "source": [
        "hotels = pd.read_csv(\"Hotel_Reviews.csv\")\n",
        "print(hotels.shape)\n",
        "print(hotels.info())"
      ],
      "execution_count": 129,
      "outputs": [
        {
          "output_type": "stream",
          "text": [
            "(515738, 17)\n",
            "<class 'pandas.core.frame.DataFrame'>\n",
            "RangeIndex: 515738 entries, 0 to 515737\n",
            "Data columns (total 17 columns):\n",
            "Hotel_Address                                 515738 non-null object\n",
            "Additional_Number_of_Scoring                  515738 non-null int64\n",
            "Review_Date                                   515738 non-null object\n",
            "Average_Score                                 515738 non-null float64\n",
            "Hotel_Name                                    515738 non-null object\n",
            "Reviewer_Nationality                          515738 non-null object\n",
            "Negative_Review                               515738 non-null object\n",
            "Review_Total_Negative_Word_Counts             515738 non-null int64\n",
            "Total_Number_of_Reviews                       515738 non-null int64\n",
            "Positive_Review                               515738 non-null object\n",
            "Review_Total_Positive_Word_Counts             515738 non-null int64\n",
            "Total_Number_of_Reviews_Reviewer_Has_Given    515738 non-null int64\n",
            "Reviewer_Score                                515738 non-null float64\n",
            "Tags                                          515738 non-null object\n",
            "days_since_review                             515738 non-null object\n",
            "lat                                           512470 non-null float64\n",
            "lng                                           512470 non-null float64\n",
            "dtypes: float64(4), int64(5), object(8)\n",
            "memory usage: 66.9+ MB\n",
            "None\n"
          ],
          "name": "stdout"
        }
      ]
    },
    {
      "cell_type": "markdown",
      "metadata": {
        "id": "03JD7BPhS63I",
        "colab_type": "text"
      },
      "source": [
        "Note above that several features are String/Object. We will have to convert this to numeric datatypes. \n",
        "1. Address, we know that Country is the most important aspect in the same. So we strip Off Country, categorize it as numeric. (We will remove Address later)\n",
        "2. Convert Review_Date to numeric\n",
        "3. Categorize Reviewer_Nationality to numeric\n",
        "4. Convert Days_since_review to numeric"
      ]
    },
    {
      "cell_type": "code",
      "metadata": {
        "id": "yqbJS-5ICwHJ",
        "colab_type": "code",
        "colab": {}
      },
      "source": [
        "split_address = hotels['Hotel_Address'].str.split()\n",
        "items = [item[-1] for item in split_address]\n",
        "\n",
        "hotels[\"Country\"], country_unique = pd.factorize(items)\n",
        "\n",
        "hotels[\"Review_Date\"] = hotels[\"Review_Date\"].str.replace('/','')\n",
        "hotels[\"Review_Date\"] = hotels[\"Review_Date\"].astype(int)\n",
        "\n",
        "hotels[\"Reviewer_Nationality\"], reviewer_nationality_unique = hotels['Reviewer_Nationality'].factorize()\n",
        "\n",
        "split_days = hotels['days_since_review'].str.split()\n",
        "items = [int(item[0]) for item in split_days]\n",
        "hotels['days_since_review']=items"
      ],
      "execution_count": 0,
      "outputs": []
    },
    {
      "cell_type": "markdown",
      "metadata": {
        "id": "-fFuDcL-VJIL",
        "colab_type": "text"
      },
      "source": [
        "---\n",
        "# Classification of reviews\n",
        "\n",
        "This section deals with creating a classification model to train and infer positive_reviews and negative reviews . To do this structure of data has to be modified from\n",
        "\n",
        "```\n",
        "Row 1 -> Feature 1, ....Positive_Review 1, Negative Review 1,....\n",
        "Row 2 -> Feature 2, ....Positive_Review 2, Negative Review 2,....\n",
        "Row 3 -> Feature 3, ....Positive_Review 3, Negative Review 3,....\n",
        "....\n",
        "```\n",
        "\n",
        "to the below structure\n",
        "```\n",
        "Row 1 -> Positive_Review 1, Rating Positive\n",
        "Row 2 -> Positive_Review 2, Rating Positive\n",
        "Row 3 -> Positive_Review 3, Rating Positive\n",
        "Row 4 -> Negative Review 1, Rating Negative\n",
        "Row 5 -> Negative Review 2, Rating Negative\n",
        "Row 6 -> Negative Review 3, Rating Negative\n",
        "....\n",
        "```"
      ]
    },
    {
      "cell_type": "code",
      "metadata": {
        "id": "H-YUzcac49UT",
        "colab_type": "code",
        "colab": {}
      },
      "source": [
        "neg_reviews = pd.DataFrame(data = hotels[hotels['Negative_Review']!='No Negative']\n",
        "                           [['Negative_Review']])\n",
        "neg_reviews.rename(columns={\"Negative_Review\": \"review\"},inplace=True)\n",
        "neg_reviews['rating']=0\n",
        "\n",
        "pos_reviews = pd.DataFrame(hotels[hotels['Positive_Review']!='No Positive']\n",
        "                           [['Positive_Review']])\n",
        "pos_reviews.rename(columns={\"Positive_Review\": \"review\"},inplace=True)\n",
        "pos_reviews['rating']=1\n",
        "\n",
        "reviews=pd.concat([pos_reviews,neg_reviews])"
      ],
      "execution_count": 0,
      "outputs": []
    },
    {
      "cell_type": "markdown",
      "metadata": {
        "id": "aX6FWKDJYvec",
        "colab_type": "text"
      },
      "source": [
        "Split as test and train"
      ]
    },
    {
      "cell_type": "code",
      "metadata": {
        "id": "R60D1LVQ49UY",
        "colab_type": "code",
        "colab": {}
      },
      "source": [
        "X_train, X_test, y_train, y_test = train_test_split(\n",
        "    reviews['review'], reviews['rating'], test_size=0.3, random_state=27)"
      ],
      "execution_count": 0,
      "outputs": []
    },
    {
      "cell_type": "markdown",
      "metadata": {
        "id": "gfQNt01tY1_c",
        "colab_type": "text"
      },
      "source": [
        "In order to classify, positive and negative reviews have to be cleaned, segmented and lemmatized. After the same, CountVectorizer and TFIDTransformer will convert the reviews into tfid values."
      ]
    },
    {
      "cell_type": "code",
      "metadata": {
        "id": "uA7Zou6_49Ua",
        "colab_type": "code",
        "colab": {}
      },
      "source": [
        "lemmatizer = WordNetLemmatizer()\n",
        "#remove punctuations\n",
        "remove_punct_dict = dict((ord(punct), None) for punct in string.punctuation)\n",
        "\n",
        "#method to split sentences to lemmatized words\n",
        "def normalize(text):\n",
        "    tokens = nltk.word_tokenize(text.lower().translate(remove_punct_dict))\n",
        "    return [lemmatizer.lemmatize(token) for token in tokens]"
      ],
      "execution_count": 0,
      "outputs": []
    },
    {
      "cell_type": "code",
      "metadata": {
        "id": "cm3gtz_V49Uc",
        "colab_type": "code",
        "outputId": "b7fbac93-ff04-4e5d-c1dd-9a490d7a6aa2",
        "colab": {
          "base_uri": "https://localhost:8080/",
          "height": 85
        }
      },
      "source": [
        "nltk.download('punkt')\n",
        "nltk.download('wordnet')\n",
        "count_vectorizer = CountVectorizer(tokenizer=normalize, stop_words='english')\n",
        "tfid_transformer = TfidfTransformer()"
      ],
      "execution_count": 135,
      "outputs": [
        {
          "output_type": "stream",
          "text": [
            "[nltk_data] Downloading package punkt to /root/nltk_data...\n",
            "[nltk_data]   Package punkt is already up-to-date!\n",
            "[nltk_data] Downloading package wordnet to /root/nltk_data...\n",
            "[nltk_data]   Package wordnet is already up-to-date!\n"
          ],
          "name": "stdout"
        }
      ]
    },
    {
      "cell_type": "markdown",
      "metadata": {
        "id": "IVJ2GrKiaf5H",
        "colab_type": "text"
      },
      "source": [
        "X_train values are converted to Count Vector values using Count vector's fit_transform.\n",
        "Count Vector values are converted to TFID values using TFI Transformer's fit_transformer.\n",
        "These are fed as training X values to a classifier model, in this case, NaiveBayes Classifier (MultinomialNB)"
      ]
    },
    {
      "cell_type": "code",
      "metadata": {
        "id": "Jx4lxZD5Nrod",
        "colab_type": "code",
        "colab": {}
      },
      "source": [
        "count_X_train = count_vectorizer.fit_transform(X_train.values.astype(str).ravel())\n",
        "tfid_X_train = tfid_transformer.fit_transform(count_X_train)\n",
        "classifier = MultinomialNB()\n",
        "classifier_train = classifier.fit(tfid_X_train,y_train)"
      ],
      "execution_count": 0,
      "outputs": []
    },
    {
      "cell_type": "markdown",
      "metadata": {
        "id": "Cs6CrvDHbkOZ",
        "colab_type": "text"
      },
      "source": [
        "Now with the trained model, y values are predicted for x and accuracy is calculated. It comes to about 88%. "
      ]
    },
    {
      "cell_type": "code",
      "metadata": {
        "id": "U00mht1mDdxq",
        "colab_type": "code",
        "colab": {
          "base_uri": "https://localhost:8080/",
          "height": 34
        },
        "outputId": "563318c7-9ef6-4560-93af-ee77fab689a8"
      },
      "source": [
        "count_X_test = count_vectorizer.transform(X_test.values.astype(str).ravel())\n",
        "tfid_X_test = tfid_transformer.fit_transform(count_X_test)\n",
        "classifier_y_pred = classifier_train.predict(tfid_X_test)\n",
        "accuracy_score(y_test,classifier_y_pred)"
      ],
      "execution_count": 137,
      "outputs": [
        {
          "output_type": "execute_result",
          "data": {
            "text/plain": [
              "0.8821592672844344"
            ]
          },
          "metadata": {
            "tags": []
          },
          "execution_count": 137
        }
      ]
    },
    {
      "cell_type": "markdown",
      "metadata": {
        "id": "1XgelvQVbxdE",
        "colab_type": "text"
      },
      "source": [
        "The same is repeated with SGDClassifier to see if it can have better prediction. This gives 91% which is a good improvement."
      ]
    },
    {
      "cell_type": "code",
      "metadata": {
        "id": "HS5N6kHsDrik",
        "colab_type": "code",
        "outputId": "472b058d-c8cb-4648-8b26-5a3b380f74db",
        "colab": {
          "base_uri": "https://localhost:8080/",
          "height": 34
        }
      },
      "source": [
        "svm = SGDClassifier()\n",
        "svm_train = svm.fit(tfid_X_train,y_train)\n",
        "svm_y_pred = svm_train.predict(tfid_X_test)\n",
        "accuracy_score(y_test,svm_y_pred)"
      ],
      "execution_count": 138,
      "outputs": [
        {
          "output_type": "execute_result",
          "data": {
            "text/plain": [
              "0.9110959998770611"
            ]
          },
          "metadata": {
            "tags": []
          },
          "execution_count": 138
        }
      ]
    },
    {
      "cell_type": "markdown",
      "metadata": {
        "id": "TboFnNmXcXnD",
        "colab_type": "text"
      },
      "source": [
        "\n",
        "\n",
        "---\n",
        "\n",
        "# Frequent words\n",
        "Top 25 words that influenced the training set are identified in Positive and Negative sets and plotted"
      ]
    },
    {
      "cell_type": "code",
      "metadata": {
        "id": "M3bQjGbC-sfb",
        "colab_type": "code",
        "colab": {}
      },
      "source": [
        "def get_most_freq(X,vector,n):\n",
        "  avg_features = X.mean(axis=0)\n",
        "  words_list = ((word, avg_features[0, i], i) for word, i in vector.vocabulary_.items())\n",
        "\n",
        "  return sorted(words_list, key = lambda x: x[1], reverse=True)[:n]"
      ],
      "execution_count": 0,
      "outputs": []
    },
    {
      "cell_type": "code",
      "metadata": {
        "id": "I5a2GoWIZXUi",
        "colab_type": "code",
        "colab": {
          "base_uri": "https://localhost:8080/",
          "height": 71
        },
        "outputId": "29958491-286b-40eb-9364-ebc32a0e9042"
      },
      "source": [
        "tfid_train_pos = tfid_X_train[np.where(y_train==1)]\n",
        "tfid_train_neg = tfid_X_train[np.where(y_train==0)]\n",
        "\n",
        "pos_freq_words_train = get_most_freq(tfid_train_pos,count_vectorizer,25)\n",
        "neg_freq_words_train = get_most_freq(tfid_train_neg,count_vectorizer,25)\n",
        "\n",
        "print(pos_freq_words_train)\n",
        "print(neg_freq_words_train)"
      ],
      "execution_count": 140,
      "outputs": [
        {
          "output_type": "stream",
          "text": [
            "[('location', 0.1116727041521233, 33911), ('staff', 0.07695186378704567, 52669), ('wa', 0.06050451547296505, 60301), ('good', 0.05450659944028772, 26268), ('great', 0.051394990991526834, 26591), ('room', 0.050109041211201154, 47888), ('friendly', 0.04551272509801534, 24858), ('hotel', 0.03969004085155618, 28607), ('breakfast', 0.0388015948419023, 10008), ('helpful', 0.03828147400291981, 27859), ('excellent', 0.03619182985192731, 22042), ('clean', 0.03579722832309442, 13057), ('nice', 0.035239671808480824, 38482), ('comfortable', 0.03242613445893197, 13901), ('bed', 0.03201368844016861, 8391), ('lovely', 0.019578894116930447, 34313), ('perfect', 0.016542494479584863, 41769), ('comfy', 0.015834952970642295, 13964), ('service', 0.015318574451937756, 49752), ('close', 0.014906400662035945, 13334), ('station', 0.013894057706280629, 52938), ('really', 0.013410865897529652, 45300), ('amazing', 0.013401908822838982, 5100), ('stay', 0.012884747941664141, 52986), ('quiet', 0.012537990985674602, 44729)]\n",
            "[('wa', 0.057287336313792014, 60301), ('room', 0.05726250463124468, 47888), ('small', 0.035086953687726616, 51251), ('t', 0.027008143693759524, 54601), ('breakfast', 0.026071259552499, 10008), ('hotel', 0.021316470502373463, 28607), ('bit', 0.01872495835627602, 9103), ('bed', 0.015733453336932716, 8391), ('little', 0.015282942735445872, 33683), ('expensive', 0.014650914662011653, 22428), ('bathroom', 0.014621928546317635, 8090), ('didn', 0.012688438668976013, 17971), ('price', 0.012430024092430655, 43685), ('like', 0.01173233958135941, 33457), ('night', 0.011546501881040427, 38575), ('staff', 0.011106791576270056, 52669), ('good', 0.011014886516199678, 26268), ('shower', 0.010809028051399317, 50377), ('poor', 0.010784870727769008, 42991), ('bar', 0.010597250129921463, 7815), ('noisy', 0.010025633841152768, 38815), ('service', 0.009966466775835256, 49752), ('time', 0.009593094559974714, 56094), ('wifi', 0.00948210759908285, 61414), ('really', 0.00928818347142162, 45300)]\n"
          ],
          "name": "stdout"
        }
      ]
    },
    {
      "cell_type": "code",
      "metadata": {
        "id": "6R1ZXL56MMHg",
        "colab_type": "code",
        "outputId": "439e83e6-aaff-4e55-8907-0156105fa285",
        "colab": {
          "base_uri": "https://localhost:8080/",
          "height": 486
        }
      },
      "source": [
        "fig=plt.figure(figsize=(16,8))\n",
        "ax=fig.add_subplot(1,2,1)\n",
        "ar_pos_freq_words = np.array(pos_freq_words_train,dtype=[('w', '<U10'), ('c', 'float64'),('i', '<i4')])\n",
        "pos_width = ar_pos_freq_words['c']\n",
        "pos_words = ar_pos_freq_words['w']\n",
        "ax.barh(np.arange(25),pos_width);\n",
        "ax.set_yticks(np.arange(25))\n",
        "ax.set_yticklabels(pos_words);\n",
        "ax=fig.add_subplot(1,2,2)\n",
        "ar_neg_freq_words = np.array(neg_freq_words_train,dtype=[('w', '<U10'), ('c', 'float64'),('i', '<i4')])\n",
        "neg_width = ar_neg_freq_words['c']\n",
        "neg_words = ar_neg_freq_words['w']\n",
        "ax.barh(np.arange(25),neg_width);\n",
        "ax.set_yticks(np.arange(25))\n",
        "ax.set_yticklabels(neg_words);"
      ],
      "execution_count": 141,
      "outputs": [
        {
          "output_type": "display_data",
          "data": {
            "image/png": "[encoded data removed]",
            "text/plain": [
              "<Figure size 1152x576 with 2 Axes>"
            ]
          },
          "metadata": {
            "tags": []
          }
        }
      ]
    },
    {
      "cell_type": "markdown",
      "metadata": {
        "id": "Osp3xqvXecW-",
        "colab_type": "text"
      },
      "source": [
        "---\n",
        "# Regression of Hotel data\n",
        "This section will assess the average score of Hotel data using the TFID values and other hotel features. In order to do that, both Positive and Negative reviews are combined since the average score is influence by the overall review. TFID values are retrieved for this combined review\n"
      ]
    },
    {
      "cell_type": "code",
      "metadata": {
        "id": "e2AJqz1q8wuY",
        "colab_type": "code",
        "colab": {}
      },
      "source": [
        "hotels[hotels['Negative_Review']=='No Negative']['Negative_Review']=''\n",
        "hotels[hotels['Positive_Review']=='No Positive']['Positive_Review']=''\n",
        "total_review = pd.DataFrame()\n",
        "total_review['review'] = hotels['Positive_Review']+hotels['Negative_Review']"
      ],
      "execution_count": 0,
      "outputs": []
    },
    {
      "cell_type": "code",
      "metadata": {
        "id": "Ij5XX166ZjS6",
        "colab_type": "code",
        "colab": {}
      },
      "source": [
        "count_total = count_vectorizer.fit_transform(total_review['review'])\n",
        "tfid_total = tfid_transformer.fit_transform(count_total)"
      ],
      "execution_count": 0,
      "outputs": []
    },
    {
      "cell_type": "markdown",
      "metadata": {
        "id": "S0G6KCoThrS2",
        "colab_type": "text"
      },
      "source": [
        "A function is defined to train a XGBoost model for the training data. R2 and MSE are calculated. And a residual plot is drawn.\n",
        "\n",
        "DMatrix is used to enable faster processing of sparse matrix "
      ]
    },
    {
      "cell_type": "code",
      "metadata": {
        "id": "yfuulI0Vgfnb",
        "colab_type": "code",
        "colab": {}
      },
      "source": [
        "def fit_and_infer(X_train,y_train,X_test,y_test):\n",
        "  xgb_train = xgb.DMatrix(X_train,label=y_train)\n",
        "  xgb_x_test = xgb.DMatrix(X_test,label=y_test)\n",
        "  \n",
        "  xgb_params = {\n",
        "      'verbosity' : 0\n",
        "  }\n",
        "  watchlist = [(xgb_train, 'train'), (xgb_x_test, 'test')]\n",
        "  num_round = 500\n",
        "  \n",
        "  clf = xgb.train(xgb_params, xgb_train, num_round, watchlist,verbose_eval=50)\n",
        "  y_pred = clf.predict(xgb_x_test)\n",
        "  print(\"r2 :\",r2_score(y_test,y_pred))\n",
        "  print(\"mse :\",mean_squared_error(y_test,y_pred))\n",
        "  \n",
        "  plt.figure(figsize=(10,6))\n",
        "  plt.scatter(y_test,y_pred);\n",
        "  plt.plot([y_test.min(), y_test.max()], [y_test.min(), y_test.max()], c='r',lw=4);"
      ],
      "execution_count": 0,
      "outputs": []
    },
    {
      "cell_type": "markdown",
      "metadata": {
        "id": "yubJHl2rfnuO",
        "colab_type": "text"
      },
      "source": [
        "**TFID values and hotel Average Score**\n",
        "\n",
        "TFID values are treated as X and Average Score of hotel data is treated as Y. The data is split as train and test.\n",
        "The values are scaled before running through regressor"
      ]
    },
    {
      "cell_type": "code",
      "metadata": {
        "id": "A8zaPiAOfiRP",
        "colab_type": "code",
        "colab": {
          "base_uri": "https://localhost:8080/",
          "height": 599
        },
        "outputId": "70e7d25e-40d1-41ae-b773-e2b430bb1f03"
      },
      "source": [
        "sparse_X_train, sparse_X_test, sparse_Y_train, sparse_Y_test = train_test_split(\n",
        "    tfid_total, hotels['Average_Score'],random_state=27)\n",
        "\n",
        "sc = StandardScaler(with_mean=False)\n",
        "sparse_X_train = sc.fit_transform(sparse_X_train)\n",
        "sparse_X_test = sc.transform(sparse_X_test)\n",
        "\n",
        "fit_and_infer(sparse_X_train,sparse_Y_train,sparse_X_test,sparse_Y_test )"
      ],
      "execution_count": 160,
      "outputs": [
        {
          "output_type": "stream",
          "text": [
            "[0]\ttrain-rmse:5.55499\ttest-rmse:5.5538\n",
            "[50]\ttrain-rmse:0.497676\ttest-rmse:0.505984\n",
            "[100]\ttrain-rmse:0.487672\ttest-rmse:0.500692\n",
            "[150]\ttrain-rmse:0.481284\ttest-rmse:0.498356\n",
            "[200]\ttrain-rmse:0.476477\ttest-rmse:0.496899\n",
            "[250]\ttrain-rmse:0.47257\ttest-rmse:0.496147\n",
            "[300]\ttrain-rmse:0.469199\ttest-rmse:0.495657\n",
            "[350]\ttrain-rmse:0.466263\ttest-rmse:0.495258\n",
            "[400]\ttrain-rmse:0.46375\ttest-rmse:0.49508\n",
            "[450]\ttrain-rmse:0.461367\ttest-rmse:0.494925\n",
            "[499]\ttrain-rmse:0.459157\ttest-rmse:0.494825\n",
            "r2 : 0.18743541680292808\n",
            "mse : 0.24485220708185834\n"
          ],
          "name": "stdout"
        },
        {
          "output_type": "display_data",
          "data": {
            "image/png": "[encoded data removed]",
            "text/plain": [
              "<Figure size 720x432 with 1 Axes>"
            ]
          },
          "metadata": {
            "tags": []
          }
        }
      ]
    },
    {
      "cell_type": "markdown",
      "metadata": {
        "id": "pOxwLxLWi0qt",
        "colab_type": "text"
      },
      "source": [
        "\n",
        "**Top 25 TFID values and Average Score**\n",
        "\n",
        "The next option to check is if there is any difference if only top 25 TFID values are used to predict Average score"
      ]
    },
    {
      "cell_type": "code",
      "metadata": {
        "id": "Pef0RU-9Pm2o",
        "colab_type": "code",
        "colab": {
          "base_uri": "https://localhost:8080/",
          "height": 599
        },
        "outputId": "9f799749-2c73-42f3-ea47-8c2aceb82bb5"
      },
      "source": [
        "top_freq_words = get_most_freq(tfid_total,count_vectorizer,25)\n",
        "ar_top_freq_words = np.array(top_freq_words,dtype=[('w', '<U10'), ('c', 'float64'),('i', '<i4')])\n",
        "words_sparse = tfid_total[:,ar_top_freq_words['i']]\n",
        "\n",
        "sparse_X_train, sparse_X_test, sparse_Y_train, sparse_Y_test = train_test_split(\n",
        "    words_sparse, hotels['Average_Score'],random_state=27)\n",
        "\n",
        "sc = StandardScaler(with_mean=False)\n",
        "sparse_X_train = sc.fit_transform(sparse_X_train)\n",
        "sparse_X_test = sc.transform(sparse_X_test)\n",
        "\n",
        "fit_and_infer(sparse_X_train,sparse_Y_train,sparse_X_test,sparse_Y_test )"
      ],
      "execution_count": 159,
      "outputs": [
        {
          "output_type": "stream",
          "text": [
            "[0]\ttrain-rmse:5.55507\ttest-rmse:5.55379\n",
            "[50]\ttrain-rmse:0.524443\ttest-rmse:0.531814\n",
            "[100]\ttrain-rmse:0.521003\ttest-rmse:0.532251\n",
            "[150]\ttrain-rmse:0.517884\ttest-rmse:0.532725\n",
            "[200]\ttrain-rmse:0.514627\ttest-rmse:0.533292\n",
            "[250]\ttrain-rmse:0.511746\ttest-rmse:0.533829\n",
            "[300]\ttrain-rmse:0.509154\ttest-rmse:0.534171\n",
            "[350]\ttrain-rmse:0.506911\ttest-rmse:0.534639\n",
            "[400]\ttrain-rmse:0.504418\ttest-rmse:0.535054\n",
            "[450]\ttrain-rmse:0.501978\ttest-rmse:0.535477\n",
            "[499]\ttrain-rmse:0.499729\ttest-rmse:0.5359\n",
            "r2 : 0.0469372678119343\n",
            "mse : 0.28718888109244245\n"
          ],
          "name": "stdout"
        },
        {
          "output_type": "display_data",
          "data": {
            "image/png": "[encoded data removed]",
            "text/plain": [
              "<Figure size 720x432 with 1 Axes>"
            ]
          },
          "metadata": {
            "tags": []
          }
        }
      ]
    },
    {
      "cell_type": "markdown",
      "metadata": {
        "id": "RbJFGnqajkUI",
        "colab_type": "text"
      },
      "source": [
        "\n",
        "**Hotel features with TFID values**\n",
        "\n",
        "There are other features in the hotel data that could be used along with TFID values for prediction. Looking at r2 values of above predictions, it looks like using entire set of TFID values will give a better prediction than restricted set (of 25 top values). \n",
        "\n",
        "In order to do the same, hotel data has to be cleaned. \n",
        "\n",
        "- Some of the string values are already converted to numeric\n",
        "- Lattitude and Longitide can be removed (assumption that this may not make a lot of difference)\n",
        "- Positive_review and Negative_Review can be removed since TFID values will be introduced\n",
        "- Hotel Address can be dropped since Country attribute is retained\n",
        "- Tags are removed now (Maybe used later depending on value derived from Tags)"
      ]
    },
    {
      "cell_type": "code",
      "metadata": {
        "id": "o_imUYhLu5rq",
        "colab_type": "code",
        "colab": {}
      },
      "source": [
        "hotels[hotels[\"lat\"].isnull()][\"lat\"]=0\n",
        "hotels[hotels[\"lng\"].isnull()][\"lng\"]=0"
      ],
      "execution_count": 0,
      "outputs": []
    },
    {
      "cell_type": "code",
      "metadata": {
        "id": "Aauyj8UFnq5f",
        "colab_type": "code",
        "colab": {
          "base_uri": "https://localhost:8080/",
          "height": 599
        },
        "outputId": "cf70a176-ca0f-42d0-ab9d-c44ddc5f1191"
      },
      "source": [
        "hotels_edited = hotels.drop(\n",
        "    ['Hotel_Address','Average_Score','Hotel_Name','Negative_Review','Positive_Review','Tags','lat','lng'],axis=1)\n",
        "hotels_sparse = hstack(\n",
        "    (csr_matrix(hotels_edited.loc[np.arange(0,hotels_edited.shape[0]),:].values), \n",
        "     tfid_total))\n",
        "sparse_X_train, sparse_X_test, sparse_Y_train, sparse_Y_test = train_test_split(\n",
        "    hotels_sparse, hotels['Average_Score'],random_state=27)\n",
        "sc = StandardScaler(with_mean=False)\n",
        "sparse_X_train = sc.fit_transform(sparse_X_train)\n",
        "sparse_X_test = sc.transform(sparse_X_test)\n",
        "\n",
        "fit_and_infer(sparse_X_train,sparse_Y_train,sparse_X_test,sparse_Y_test )"
      ],
      "execution_count": 167,
      "outputs": [
        {
          "output_type": "stream",
          "text": [
            "[0]\ttrain-rmse:5.55184\ttest-rmse:5.55061\n",
            "[50]\ttrain-rmse:0.25299\ttest-rmse:0.254542\n",
            "[100]\ttrain-rmse:0.187008\ttest-rmse:0.190758\n",
            "[150]\ttrain-rmse:0.144463\ttest-rmse:0.149074\n",
            "[200]\ttrain-rmse:0.126897\ttest-rmse:0.132435\n",
            "[250]\ttrain-rmse:0.111508\ttest-rmse:0.118198\n",
            "[300]\ttrain-rmse:0.097372\ttest-rmse:0.104819\n",
            "[350]\ttrain-rmse:0.095055\ttest-rmse:0.103177\n",
            "[400]\ttrain-rmse:0.088669\ttest-rmse:0.097194\n",
            "[450]\ttrain-rmse:0.080127\ttest-rmse:0.089153\n",
            "[499]\ttrain-rmse:0.075487\ttest-rmse:0.084822\n",
            "r2 : 0.9761233437162202\n",
            "mse : 0.007194815168803019\n"
          ],
          "name": "stdout"
        },
        {
          "output_type": "display_data",
          "data": {
            "image/png": "[encoded data removed]",
            "text/plain": [
              "<Figure size 720x432 with 1 Axes>"
            ]
          },
          "metadata": {
            "tags": []
          }
        }
      ]
    },
    {
      "cell_type": "markdown",
      "metadata": {
        "id": "vzWkq0YjC9oM",
        "colab_type": "text"
      },
      "source": [
        "As seen above, XGB regression with hotel features as well as TFID values give an impressive output with r2 of 0.97."
      ]
    }
  ]
}