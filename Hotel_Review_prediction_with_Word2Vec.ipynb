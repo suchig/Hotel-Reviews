{
  "nbformat": 4,
  "nbformat_minor": 0,
  "metadata": {
    "accelerator": "GPU",
    "colab": {
      "name": "Hotel_Review_prediction with Word2Vec.ipynb",
      "version": "0.3.2",
      "provenance": [],
      "collapsed_sections": [],
      "toc_visible": true,
      "include_colab_link": true
    },
    "kernelspec": {
      "display_name": "Python 3",
      "language": "python",
      "name": "python3"
    },
    "language_info": {
      "codemirror_mode": {
        "name": "ipython",
        "version": 3
      },
      "file_extension": ".py",
      "mimetype": "text/x-python",
      "name": "python",
      "nbconvert_exporter": "python",
      "pygments_lexer": "ipython3",
      "version": "3.6.8"
    }
  },
  "cells": [
    {
      "cell_type": "markdown",
      "metadata": {
        "id": "view-in-github",
        "colab_type": "text"
      },
      "source": [
        "<a href=\"https://colab.research.google.com/github/suchig/Hotel-Reviews/blob/master/Hotel_Review_prediction_with_Word2Vec.ipynb\" target=\"_parent\"><img src=\"https://colab.research.google.com/assets/colab-badge.svg\" alt=\"Open In Colab\"/></a>"
      ]
    },
    {
      "cell_type": "code",
      "metadata": {
        "colab_type": "code",
        "id": "nN-yO6O-49UI",
        "colab": {}
      },
      "source": [
        "import warnings\n",
        "warnings.filterwarnings('ignore')\n",
        "\n",
        "import numpy as np\n",
        "import pandas as pd\n",
        "import re\n",
        "\n",
        "%matplotlib inline\n",
        "import seaborn as sns\n",
        "from matplotlib import pyplot as plt\n",
        "\n",
        "from sklearn.model_selection import train_test_split\n",
        "from sklearn.feature_extraction.text import CountVectorizer, TfidfTransformer, TfidfVectorizer\n",
        "from sklearn.naive_bayes import MultinomialNB\n",
        "from sklearn.metrics import accuracy_score, mean_squared_error, r2_score\n",
        "from sklearn.linear_model import SGDClassifier\n",
        "from sklearn.model_selection import cross_validate\n",
        "from sklearn.preprocessing import StandardScaler\n",
        "from sklearn.linear_model import Ridge\n",
        "from sklearn.multiclass import OneVsRestClassifier\n",
        "\n",
        "from scipy.sparse import hstack, csr_matrix\n",
        "\n",
        "#!pip install   xgboost\n",
        "import xgboost as xgb\n",
        "from xgboost import XGBRegressor\n",
        "\n",
        "import nltk\n",
        "import string\n",
        "from nltk.stem import WordNetLemmatizer\n",
        "from wordcloud import WordCloud\n",
        "\n",
        "#!pip install hyperopt\n",
        "from hyperopt import fmin, tpe, STATUS_OK, Trials, hp;\n",
        "\n",
        "#!pip install gensim\n",
        "import gensim \n",
        "import logging\n",
        "from gensim.models import Word2Vec\n",
        "from gensim.models import KeyedVectors"
      ],
      "execution_count": 0,
      "outputs": []
    },
    {
      "cell_type": "markdown",
      "metadata": {
        "colab_type": "text",
        "id": "4fc0ShMiSQDt"
      },
      "source": [
        "---\n",
        "# Initialization of data\n",
        "Read the Hotel reviews csv file and examine its structure and information\n"
      ]
    },
    {
      "cell_type": "code",
      "metadata": {
        "colab_type": "code",
        "id": "lTilHbhE49UM",
        "outputId": "b293ec12-97bb-4fce-fca5-bc77b50aa7b5",
        "colab": {
          "base_uri": "https://localhost:8080/",
          "height": 425
        }
      },
      "source": [
        "hotels = pd.read_csv(\"Hotel_Reviews.csv\")\n",
        "print(hotels.shape)\n",
        "print(hotels.info())"
      ],
      "execution_count": 2,
      "outputs": [
        {
          "output_type": "stream",
          "text": [
            "(515738, 17)\n",
            "<class 'pandas.core.frame.DataFrame'>\n",
            "RangeIndex: 515738 entries, 0 to 515737\n",
            "Data columns (total 17 columns):\n",
            "Hotel_Address                                 515738 non-null object\n",
            "Additional_Number_of_Scoring                  515738 non-null int64\n",
            "Review_Date                                   515738 non-null object\n",
            "Average_Score                                 515738 non-null float64\n",
            "Hotel_Name                                    515738 non-null object\n",
            "Reviewer_Nationality                          515738 non-null object\n",
            "Negative_Review                               515738 non-null object\n",
            "Review_Total_Negative_Word_Counts             515738 non-null int64\n",
            "Total_Number_of_Reviews                       515738 non-null int64\n",
            "Positive_Review                               515738 non-null object\n",
            "Review_Total_Positive_Word_Counts             515738 non-null int64\n",
            "Total_Number_of_Reviews_Reviewer_Has_Given    515738 non-null int64\n",
            "Reviewer_Score                                515738 non-null float64\n",
            "Tags                                          515738 non-null object\n",
            "days_since_review                             515738 non-null object\n",
            "lat                                           512470 non-null float64\n",
            "lng                                           512470 non-null float64\n",
            "dtypes: float64(4), int64(5), object(8)\n",
            "memory usage: 66.9+ MB\n",
            "None\n"
          ],
          "name": "stdout"
        }
      ]
    },
    {
      "cell_type": "markdown",
      "metadata": {
        "id": "WE9IGjTad7zZ",
        "colab_type": "text"
      },
      "source": [
        "Load Word2Vec"
      ]
    },
    {
      "cell_type": "code",
      "metadata": {
        "id": "4QJaAksvd7Lx",
        "colab_type": "code",
        "colab": {}
      },
      "source": [
        "model_wv =  KeyedVectors.load(\"hotel_wv\", mmap='r')\n",
        "dimension = model_wv.vector_size"
      ],
      "execution_count": 0,
      "outputs": []
    },
    {
      "cell_type": "code",
      "metadata": {
        "id": "CvVCG0ye7x8k",
        "colab_type": "code",
        "colab": {}
      },
      "source": [
        "review = hotels[\"Positive_Review\"]+ \" \" + hotels[\"Negative_Review\"]"
      ],
      "execution_count": 0,
      "outputs": []
    },
    {
      "cell_type": "code",
      "metadata": {
        "id": "nFJrLNW38sxx",
        "colab_type": "code",
        "colab": {
          "base_uri": "https://localhost:8080/",
          "height": 68
        },
        "outputId": "44101e9f-432e-4cad-c87e-e12267d7b322"
      },
      "source": [
        "#nltk.download('punkt')"
      ],
      "execution_count": 7,
      "outputs": [
        {
          "output_type": "stream",
          "text": [
            "[nltk_data] Downloading package punkt to /root/nltk_data...\n",
            "[nltk_data]   Unzipping tokenizers/punkt.zip.\n"
          ],
          "name": "stdout"
        },
        {
          "output_type": "execute_result",
          "data": {
            "text/plain": [
              "True"
            ]
          },
          "metadata": {
            "tags": []
          },
          "execution_count": 7
        }
      ]
    },
    {
      "cell_type": "code",
      "metadata": {
        "id": "gNYcnGUB8IMO",
        "colab_type": "code",
        "colab": {}
      },
      "source": [
        "tokens = review.map(lambda x: nltk.word_tokenize(x))\n",
        "probability = np.array(\n",
        "    [np.mean([model_wv[w] for w in words if w in model_wv] \n",
        "             or [np.zeros(dimension)], axis=0)\n",
        "     for words in tokens]\n",
        ")"
      ],
      "execution_count": 0,
      "outputs": []
    },
    {
      "cell_type": "code",
      "metadata": {
        "colab_type": "code",
        "id": "yfuulI0Vgfnb",
        "colab": {}
      },
      "source": [
        "def fit_and_infer(X_train,y_train,X_test,y_test,num_round=50,linear=True):\n",
        "  xgb_train = xgb.DMatrix(X_train,label=y_train)\n",
        "  xgb_x_test = xgb.DMatrix(X_test,label=y_test)\n",
        "  \n",
        "  if linear==True:\n",
        "    xgb_params = {\n",
        "        'verbosity' : 0,\n",
        "        #'objective': 'reg:gamma',\n",
        "        'nthread': 5\n",
        "    }\n",
        "    \n",
        "  else:\n",
        "    xgb_params = {\n",
        "        #'verbosity' : 0,\n",
        "        'max_depth': 5,\n",
        "        'objective': 'multi:softprob',\n",
        "        'num_class': 9,\n",
        "        'nthread':5\n",
        "    }\n",
        "    num_round=50\n",
        "  \n",
        "  watchlist = [(xgb_train, 'train'), (xgb_x_test, 'test')]\n",
        "  \n",
        "  clf = xgb.train(xgb_params, xgb_train, num_round, watchlist,verbose_eval=20)\n",
        "  y_pred = clf.predict(xgb_x_test)\n",
        "  if linear == True:\n",
        "    print(\"r2 :\",r2_score(y_test,y_pred))\n",
        "    print(\"mse :\",mean_squared_error(y_test,y_pred))\n",
        "  else:\n",
        "    print(\"accuracy :\",accuracy_score(y_test,y_pred))\n",
        "  \n",
        "  plt.figure(figsize=(10,6))\n",
        "  plt.scatter(y_test,y_pred);\n",
        "  plt.plot([y_test.min(), y_test.max()], [y_test.min(), y_test.max()], c='r',lw=4);\n",
        "  return y_pred"
      ],
      "execution_count": 0,
      "outputs": []
    },
    {
      "cell_type": "markdown",
      "metadata": {
        "colab_type": "text",
        "id": "JYCh9Yn65E-2"
      },
      "source": [
        "**XGB + Linear + All prop**"
      ]
    },
    {
      "cell_type": "code",
      "metadata": {
        "colab_type": "code",
        "id": "A8zaPiAOfiRP",
        "outputId": "dc75f4f3-b00a-4daf-d080-e7e5b9e6f287",
        "colab": {
          "base_uri": "https://localhost:8080/",
          "height": 514
        }
      },
      "source": [
        "sparse_X_train, sparse_X_test, sparse_Y_train, sparse_Y_test = train_test_split(\n",
        "    probability, hotels['Reviewer_Score'],random_state=27)\n",
        "\n",
        "#sc = StandardScaler(with_mean=False)\n",
        "#sparse_X_train = sc.fit_transform(sparse_X_train)\n",
        "#sparse_X_test = sc.transform(sparse_X_test)\n",
        "\n",
        "fit_and_infer(sparse_X_train,sparse_Y_train,sparse_X_test,sparse_Y_test )"
      ],
      "execution_count": 14,
      "outputs": [
        {
          "output_type": "stream",
          "text": [
            "[0]\ttrain-rmse:5.73365\ttest-rmse:5.73851\n",
            "[20]\ttrain-rmse:1.24707\ttest-rmse:1.27682\n",
            "[40]\ttrain-rmse:1.20856\ttest-rmse:1.25699\n",
            "[49]\ttrain-rmse:1.19628\ttest-rmse:1.25235\n",
            "r2 : 0.41609891550105615\n",
            "mse : 1.5683843700466242\n"
          ],
          "name": "stdout"
        },
        {
          "output_type": "execute_result",
          "data": {
            "text/plain": [
              "array([7.989485, 8.510164, 9.452086, ..., 5.482687, 6.903521, 8.856896],\n",
              "      dtype=float32)"
            ]
          },
          "metadata": {
            "tags": []
          },
          "execution_count": 14
        },
        {
          "output_type": "display_data",
          "data": {
            "image/png": "[encoded data removed]",
            "text/plain": [
              "<Figure size 720x432 with 1 Axes>"
            ]
          },
          "metadata": {
            "tags": []
          }
        }
      ]
    },
    {
      "cell_type": "markdown",
      "metadata": {
        "id": "gS5eMnqKbMr4",
        "colab_type": "text"
      },
      "source": [
        "**Classification XGB All Prob**"
      ]
    },
    {
      "cell_type": "code",
      "metadata": {
        "id": "xFgkfINQ8a3W",
        "colab_type": "code",
        "colab": {
          "base_uri": "https://localhost:8080/",
          "height": 34
        },
        "outputId": "55060285-b60b-4a71-a08a-66cc07afb725"
      },
      "source": [
        "hotels['Reviewer_Score_class'] = (round(hotels['Reviewer_Score'])-2).astype(int)\n",
        "hotels['Reviewer_Score_class'].unique()"
      ],
      "execution_count": 15,
      "outputs": [
        {
          "output_type": "execute_result",
          "data": {
            "text/plain": [
              "array([1, 6, 5, 2, 3, 8, 4, 7, 0])"
            ]
          },
          "metadata": {
            "tags": []
          },
          "execution_count": 15
        }
      ]
    },
    {
      "cell_type": "code",
      "metadata": {
        "id": "JoYdlLpXgEA8",
        "colab_type": "code",
        "colab": {
          "base_uri": "https://localhost:8080/",
          "height": 34
        },
        "outputId": "c484094b-241f-4fef-9b07-e3259b44913f"
      },
      "source": [
        "sparse_X_train, sparse_X_test, sparse_Y_train, sparse_Y_test = train_test_split(\n",
        "    probability, hotels['Reviewer_Score_class'],random_state=27)\n",
        "\n",
        "#XGB Classifier takes a very long time\n",
        "#fit_and_infer(sparse_X_train,sparse_Y_train,sparse_X_test,sparse_Y_test,linear=False )\n",
        "\n",
        "sgd_ovr = OneVsRestClassifier(SGDClassifier())\n",
        "sgd_ovr.fit(sparse_X_train,sparse_Y_train)y_pred = sgd_ovr.predict(sparse_X_test)\n",
        "\n",
        "accuracy_score(sparse_Y_test,y_pred)"
      ],
      "execution_count": 22,
      "outputs": [
        {
          "output_type": "execute_result",
          "data": {
            "text/plain": [
              "0.4016597510373444"
            ]
          },
          "metadata": {
            "tags": []
          },
          "execution_count": 22
        }
      ]
    }
  ]
}